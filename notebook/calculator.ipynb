{
 "cells": [
  {
   "cell_type": "markdown",
   "metadata": {},
   "source": [
    "# Getting the data"
   ]
  },
  {
   "cell_type": "code",
   "execution_count": 1,
   "metadata": {},
   "outputs": [],
   "source": [
    "import numpy as np\n",
    "import pandas as pd\n",
    "import numpy_financial as npf"
   ]
  },
  {
   "cell_type": "code",
   "execution_count": 7,
   "metadata": {},
   "outputs": [],
   "source": [
    "cash_flow = [-100, 10, 30, 40, 50, 60, 70, 80, 90, 100]"
   ]
  },
  {
   "cell_type": "code",
   "execution_count": 14,
   "metadata": {},
   "outputs": [],
   "source": [
    "def irr(values):\n",
    "\t\"\"\"\n",
    "\tReturns the internal rate of return for a schedule of cash flows that is not necessarily periodic. \n",
    "\tArgs:\n",
    "\t\t- values: A series of cash flows that corresponds to a schedule of payments in dates.\n",
    "\t\"\"\"\n",
    "\t# There should be at least one positive and one negative cash flow.\n",
    "\tif not any(i < 0 for i in values):\n",
    "\t\traise Exception(\"There should be at least one negative cash flow.\")\n",
    "\tif not any(i > 0 for i in values):\n",
    "\t\traise Exception(\"There should be at least one positive cash flow.\")\n",
    "\treturn np.round(npf.irr(values), 4)*100"
   ]
  },
  {
   "cell_type": "code",
   "execution_count": 15,
   "metadata": {},
   "outputs": [
    {
     "data": {
      "text/plain": [
       "36.39"
      ]
     },
     "execution_count": 15,
     "metadata": {},
     "output_type": "execute_result"
    }
   ],
   "source": [
    "irr(cash_flow)"
   ]
  },
  {
   "cell_type": "code",
   "execution_count": 19,
   "metadata": {},
   "outputs": [],
   "source": [
    "import requests\n",
    "import pandas as pd\n",
    "\n",
    "search_data = pd.read_csv(\"data.csv\")"
   ]
  },
  {
   "cell_type": "code",
   "execution_count": 21,
   "metadata": {},
   "outputs": [],
   "source": [
    "zpids = search_data['zpid'].tolist()"
   ]
  },
  {
   "cell_type": "code",
   "execution_count": 23,
   "metadata": {},
   "outputs": [
    {
     "data": {
      "text/plain": [
       "69670062"
      ]
     },
     "execution_count": 23,
     "metadata": {},
     "output_type": "execute_result"
    }
   ],
   "source": [
    "zpids[1]"
   ]
  },
  {
   "cell_type": "code",
   "execution_count": 65,
   "metadata": {},
   "outputs": [
    {
     "data": {
      "text/plain": [
       "40"
      ]
     },
     "execution_count": 65,
     "metadata": {},
     "output_type": "execute_result"
    }
   ],
   "source": [
    "len(zpids)"
   ]
  },
  {
   "cell_type": "code",
   "execution_count": null,
   "metadata": {},
   "outputs": [],
   "source": [
    "import time\n",
    "\n",
    "print(time.time())\n",
    "for i in range(10):\n",
    "\tprint(i)\n",
    "\tprint(time.time())\n",
    "\tif (i % 2 == 0) & (i != 0):\n",
    "\t\tprint(\"sleep for 5 seconds\")\n",
    "\t\ttime.sleep(5)\n",
    "\t\tprint(time.time())\n",
    "\t\tprint(\"-\"*50)\n",
    "\telse:\n",
    "\t\tprint(\"no sleep\")\n",
    "\t\tprint(time.time())\n",
    "\t\tprint(\"-\"*50)\n",
    "\n"
   ]
  },
  {
   "cell_type": "code",
   "execution_count": 78,
   "metadata": {},
   "outputs": [],
   "source": [
    "# The API processes 2 requests per second.\n",
    "import time\n",
    "\n",
    "df = pd.DataFrame()\n",
    "for i, zpid in enumerate(zpids):\n",
    "\tif (i % 2 == 0) & (i != 0):\n",
    "\t\ttime.sleep(5)\n",
    "\t\turl = \"https://zillow-com1.p.rapidapi.com/property\"\n",
    "\n",
    "\t\tquerystring = {\"zpid\":f\"{zpid}\"}\n",
    "\n",
    "\t\theaders = {\n",
    "\t\t\t\"X-RapidAPI-Host\": \"zillow-com1.p.rapidapi.com\",\n",
    "\t\t\t\"X-RapidAPI-Key\": \"a271625fdbmsh9c07327c04cb02bp1314d1jsn9ac44145b089\"\n",
    "\t\t}\n",
    "\n",
    "\t\tresponse = requests.request(\"GET\", url, headers=headers, params=querystring)\n",
    "\t\tdata_json = response.json()\n",
    "\t\tdf0 = pd.json_normalize(data_json)\n",
    "\t\tdf = pd.concat([df, df0], axis=0)\n",
    "\telse:\n",
    "\t\turl = \"https://zillow-com1.p.rapidapi.com/property\"\n",
    "\n",
    "\t\tquerystring = {\"zpid\":f\"{zpid}\"}\n",
    "\n",
    "\t\theaders = {\n",
    "\t\t\t\"X-RapidAPI-Host\": \"zillow-com1.p.rapidapi.com\",\n",
    "\t\t\t\"X-RapidAPI-Key\": \"a271625fdbmsh9c07327c04cb02bp1314d1jsn9ac44145b089\"\n",
    "\t\t}\n",
    "\n",
    "\t\tresponse = requests.request(\"GET\", url, headers=headers, params=querystring)\n",
    "\t\tdata_json = response.json()\n",
    "\t\tdf0 = pd.json_normalize(data_json)\n",
    "\t\tdf = pd.concat([df, df0], axis=0)"
   ]
  },
  {
   "cell_type": "code",
   "execution_count": 79,
   "metadata": {},
   "outputs": [
    {
     "data": {
      "text/plain": [
       "(40, 262)"
      ]
     },
     "execution_count": 79,
     "metadata": {},
     "output_type": "execute_result"
    }
   ],
   "source": [
    "df.shape"
   ]
  },
  {
   "cell_type": "code",
   "execution_count": 34,
   "metadata": {},
   "outputs": [
    {
     "data": {
      "text/plain": [
       "datetime.datetime(2020, 1, 1, 0, 0)"
      ]
     },
     "execution_count": 34,
     "metadata": {},
     "output_type": "execute_result"
    }
   ],
   "source": [
    "from datetime import datetime\n",
    "\n",
    "datetime.strptime('2020-01-01', '%Y-%m-%d')"
   ]
  },
  {
   "cell_type": "code",
   "execution_count": 35,
   "metadata": {},
   "outputs": [],
   "source": [
    "import json\n",
    "\n",
    "user_assumptions = {}\n",
    "\n",
    "user_assumptions['monthly_gross_rent'] = 1_500\n",
    "user_assumptions['purchase_price'] = 300_000\n",
    "user_assumptions['purchase_date'] = \"2020-01-01\"\n",
    "user_assumptions['closing_costs'] = 3_000\n",
    "user_assumptions['extra_cash_reserves'] = 5_000\n",
    "user_assumptions['eqt_pct'] = 0.5\n",
    "user_assumptions['amort_period'] = 30\n",
    "user_assumptions['int_rate_on_debt'] = 0.05\n",
    "user_assumptions['renovation_costs'] = 10_000\n",
    "user_assumptions['renovation_period'] = 4\n",
    "user_assumptions['exit_renovation_cost'] = 5_000\n",
    "user_assumptions['length_hold'] = 7\n",
    "user_assumptions['appr_rate'] = 0.02\n",
    "user_assumptions['sales_price_at_exit'] = 400_000\n",
    "user_assumptions['cost_of_sale'] = 0.06\n",
    "user_assumptions['vacancy_rate'] = 0.0775\n",
    "user_assumptions['rent_growth_rate'] = 0.01\n",
    "user_assumptions['repairs'] = 0.01\n",
    "user_assumptions['property_taxes'] = 3_000\n",
    "user_assumptions['insurance'] = 500\n",
    "user_assumptions['utilities'] = 40\n",
    "user_assumptions['property_manager_fee'] = 0.01\n",
    "user_assumptions['discount_rate'] = 0.05\n",
    "\n",
    "\n",
    "\n",
    "fn = json.dumps(user_assumptions)\n",
    "with open('../data/user_assumptions_test.json', 'w') as f:\n",
    "    f.write(fn)"
   ]
  },
  {
   "cell_type": "code",
   "execution_count": 36,
   "metadata": {},
   "outputs": [
    {
     "data": {
      "text/plain": [
       "{'monthly_gross_rent': 1500,\n",
       " 'purchase_price': 300000,\n",
       " 'purchase_date': '2020-01-01',\n",
       " 'closing_costs': 3000,\n",
       " 'extra_cash_reserves': 5000,\n",
       " 'eqt_pct': 0.5,\n",
       " 'amort_period': 30,\n",
       " 'int_rate_on_debt': 0.05,\n",
       " 'renovation_costs': 10000,\n",
       " 'renovation_period': 4,\n",
       " 'exit_renovation_cost': 5000,\n",
       " 'length_hold': 7,\n",
       " 'appr_rate': 0.02,\n",
       " 'sales_price_at_exit': 400000,\n",
       " 'cost_of_sale': 0.06,\n",
       " 'vacancy_rate': 0.0775,\n",
       " 'rent_growth_rate': 0.01,\n",
       " 'repairs': 0.01,\n",
       " 'property_taxes': 3000,\n",
       " 'insurance': 500,\n",
       " 'utilities': 40,\n",
       " 'property_manager_fee': 0.01,\n",
       " 'discount_rate': 0.05}"
      ]
     },
     "execution_count": 36,
     "metadata": {},
     "output_type": "execute_result"
    }
   ],
   "source": [
    "with open('../data/user_assumptions_test.json', 'r') as f:\n",
    "    user_assumptions = json.load(f)\n",
    "user_assumptions"
   ]
  },
  {
   "cell_type": "code",
   "execution_count": 37,
   "metadata": {},
   "outputs": [
    {
     "data": {
      "text/html": [
       "<div><div id=0a9389e9-382f-4285-a751-d014d2eeda7a style=\"display:none; background-color:#9D6CFF; color:white; width:200px; height:30px; padding-left:5px; border-radius:4px; flex-direction:row; justify-content:space-around; align-items:center;\" onmouseover=\"this.style.backgroundColor='#BA9BF8'\" onmouseout=\"this.style.backgroundColor='#9D6CFF'\" onclick=\"window.commands?.execute('create-mitosheet-from-dataframe-output');\">See Full Dataframe in Mito</div> <script> if (window.commands.hasCommand('create-mitosheet-from-dataframe-output')) document.getElementById('0a9389e9-382f-4285-a751-d014d2eeda7a').style.display = 'flex' </script> <table border=\"1\" class=\"dataframe\">\n",
       "  <thead>\n",
       "    <tr style=\"text-align: right;\">\n",
       "      <th></th>\n",
       "      <th>0</th>\n",
       "    </tr>\n",
       "  </thead>\n",
       "  <tbody>\n",
       "    <tr>\n",
       "      <th>Monthly Gross Rent ($/mo)</th>\n",
       "      <td>1500</td>\n",
       "    </tr>\n",
       "    <tr>\n",
       "      <th>Purchase Price ($)</th>\n",
       "      <td>300000</td>\n",
       "    </tr>\n",
       "    <tr>\n",
       "      <th>Purchase Date</th>\n",
       "      <td>2020-01-01 00:00:00</td>\n",
       "    </tr>\n",
       "    <tr>\n",
       "      <th>Closing Costs ($)</th>\n",
       "      <td>3000</td>\n",
       "    </tr>\n",
       "    <tr>\n",
       "      <th>Extra Cash Reserves ($)</th>\n",
       "      <td>5000</td>\n",
       "    </tr>\n",
       "  </tbody>\n",
       "</table></div>"
      ],
      "text/plain": [
       "                                             0\n",
       "Monthly Gross Rent ($/mo)                 1500\n",
       "Purchase Price ($)                      300000\n",
       "Purchase Date              2020-01-01 00:00:00\n",
       "Closing Costs ($)                         3000\n",
       "Extra Cash Reserves ($)                   5000"
      ]
     },
     "execution_count": 37,
     "metadata": {},
     "output_type": "execute_result"
    }
   ],
   "source": [
    "core_assumptions = {\n",
    "    \"Monthly Gross Rent ($/mo)\": user_assumptions[\"monthly_gross_rent\"],\n",
    "    \"Purchase Price ($)\": user_assumptions[\"purchase_price\"],\n",
    "    \"Purchase Date\": datetime.strptime(user_assumptions[\"purchase_date\"], '%Y-%m-%d'),\n",
    "    \"Closing Costs ($)\": user_assumptions[\"closing_costs\"],\n",
    "    \"Extra Cash Reserves ($)\": user_assumptions[\"extra_cash_reserves\"],\n",
    "}\n",
    "\n",
    "df = pd.DataFrame.from_dict(core_assumptions, orient='index')\n",
    "df.head()"
   ]
  },
  {
   "cell_type": "code",
   "execution_count": 80,
   "metadata": {},
   "outputs": [],
   "source": [
    "df.to_csv(\"prop_details.csv\", index=False)"
   ]
  },
  {
   "cell_type": "code",
   "execution_count": null,
   "metadata": {},
   "outputs": [],
   "source": [
    "url = \"https://zillow-com1.p.rapidapi.com/property\"\n",
    "\n",
    "querystring = {\"zpid\":\"69670062\"}\n",
    "\n",
    "headers = {\n",
    "\t\"X-RapidAPI-Host\": \"zillow-com1.p.rapidapi.com\",\n",
    "\t\"X-RapidAPI-Key\": \"a271625fdbmsh9c07327c04cb02bp1314d1jsn9ac44145b089\"\n",
    "}\n",
    "\n",
    "response = requests.request(\"GET\", url, headers=headers, params=querystring)"
   ]
  },
  {
   "cell_type": "code",
   "execution_count": 55,
   "metadata": {},
   "outputs": [
    {
     "data": {
      "text/plain": [
       "Index(['listingProvider', 'buildingPermits', 'propertyTaxRate',\n",
       "       'contact_recipients', 'longitude', 'countyFIPS', 'cityId',\n",
       "       'timeOnZillow', 'url', 'zestimate',\n",
       "       ...\n",
       "       'listed_by.zpro', 'listed_by.recent_sales', 'listed_by.review_count',\n",
       "       'listed_by.display_name', 'listed_by.badge_type',\n",
       "       'listed_by.business_name', 'listed_by.rating_average',\n",
       "       'listed_by.phone', 'listed_by.zuid', 'listed_by.image_url'],\n",
       "      dtype='object', length=256)"
      ]
     },
     "execution_count": 55,
     "metadata": {},
     "output_type": "execute_result"
    }
   ],
   "source": [
    "data_json = response.json()\n",
    "df = pd.json_normalize(data_json)\n",
    "df.columns\n"
   ]
  },
  {
   "cell_type": "code",
   "execution_count": 58,
   "metadata": {},
   "outputs": [
    {
     "data": {
      "text/plain": [
       "0    149\n",
       "Name: resoFacts.pricePerSquareFoot, dtype: int64"
      ]
     },
     "execution_count": 58,
     "metadata": {},
     "output_type": "execute_result"
    }
   ],
   "source": [
    "df['resoFacts.pricePerSquareFoot']"
   ]
  },
  {
   "cell_type": "code",
   "execution_count": 59,
   "metadata": {},
   "outputs": [
    {
     "data": {
      "text/html": [
       "<div>\n",
       "<style scoped>\n",
       "    .dataframe tbody tr th:only-of-type {\n",
       "        vertical-align: middle;\n",
       "    }\n",
       "\n",
       "    .dataframe tbody tr th {\n",
       "        vertical-align: top;\n",
       "    }\n",
       "\n",
       "    .dataframe thead th {\n",
       "        text-align: right;\n",
       "    }\n",
       "</style>\n",
       "<table border=\"1\" class=\"dataframe\">\n",
       "  <thead>\n",
       "    <tr style=\"text-align: right;\">\n",
       "      <th></th>\n",
       "      <th>listingProvider</th>\n",
       "      <th>buildingPermits</th>\n",
       "      <th>propertyTaxRate</th>\n",
       "    </tr>\n",
       "  </thead>\n",
       "  <tbody>\n",
       "    <tr>\n",
       "      <th>0</th>\n",
       "      <td>None</td>\n",
       "      <td>None</td>\n",
       "      <td>2.19</td>\n",
       "    </tr>\n",
       "  </tbody>\n",
       "</table>\n",
       "</div>"
      ],
      "text/plain": [
       "  listingProvider buildingPermits  propertyTaxRate\n",
       "0            None            None             2.19"
      ]
     },
     "execution_count": 59,
     "metadata": {},
     "output_type": "execute_result"
    }
   ],
   "source": [
    "df0 = df[['listingProvider', 'buildingPermits', 'propertyTaxRate']]\n",
    "df0.head()"
   ]
  },
  {
   "cell_type": "code",
   "execution_count": 64,
   "metadata": {},
   "outputs": [
    {
     "data": {
      "text/html": [
       "<div>\n",
       "<style scoped>\n",
       "    .dataframe tbody tr th:only-of-type {\n",
       "        vertical-align: middle;\n",
       "    }\n",
       "\n",
       "    .dataframe tbody tr th {\n",
       "        vertical-align: top;\n",
       "    }\n",
       "\n",
       "    .dataframe thead th {\n",
       "        text-align: right;\n",
       "    }\n",
       "</style>\n",
       "<table border=\"1\" class=\"dataframe\">\n",
       "  <thead>\n",
       "    <tr style=\"text-align: right;\">\n",
       "      <th></th>\n",
       "      <th>listingProvider</th>\n",
       "      <th>buildingPermits</th>\n",
       "      <th>propertyTaxRate</th>\n",
       "    </tr>\n",
       "  </thead>\n",
       "  <tbody>\n",
       "    <tr>\n",
       "      <th>0</th>\n",
       "      <td>None</td>\n",
       "      <td>None</td>\n",
       "      <td>2.19</td>\n",
       "    </tr>\n",
       "  </tbody>\n",
       "</table>\n",
       "</div>"
      ],
      "text/plain": [
       "  listingProvider buildingPermits  propertyTaxRate\n",
       "0            None            None             2.19"
      ]
     },
     "execution_count": 64,
     "metadata": {},
     "output_type": "execute_result"
    }
   ],
   "source": [
    "df2 = pd.DataFrame()\n",
    "df1 = pd.concat((df0, df2), axis=0)\n",
    "df1.head()"
   ]
  },
  {
   "cell_type": "code",
   "execution_count": 31,
   "metadata": {},
   "outputs": [],
   "source": [
    "res = response.json()"
   ]
  },
  {
   "cell_type": "code",
   "execution_count": 52,
   "metadata": {},
   "outputs": [
    {
     "name": "stdout",
     "output_type": "stream",
     "text": [
      "2.19\n",
      "236400\n",
      "1599\n",
      "189900\n",
      "{'arm5Rate': 4.385, 'fifteenYearFixedRate': 4.087, 'thirtyYearFixedRate': 4.671}\n",
      "None\n",
      "149\n",
      "798\n"
     ]
    }
   ],
   "source": [
    "print(res['propertyTaxRate'])\n",
    "print(res['zestimate'])\n",
    "print(res['rentZestimate'])\n",
    "print(res['price'])\n",
    "print(res['mortgageRates'])\n",
    "print(res['monthlyHoaFee'])\n",
    "print(res['resoFacts']['pricePerSquareFoot'])\n",
    "print(res['annualHomeownersInsurance'])"
   ]
  },
  {
   "cell_type": "code",
   "execution_count": 33,
   "metadata": {},
   "outputs": [
    {
     "data": {
      "text/plain": [
       "dict_keys(['listingProvider', 'buildingPermits', 'propertyTaxRate', 'contact_recipients', 'solarPotential', 'longitude', 'countyFIPS', 'cityId', 'timeOnZillow', 'url', 'zestimate', 'imgSrc', 'zpid', 'zipcode', 'livingAreaValue', 'zestimateLowPercent', 'isListedByOwner', 'propertyTypeDimension', 'resoFacts', 'streetAddress', 'county', 'taxHistory', 'stateId', 'countyId', 'timeZone', 'homeType', 'livingAreaUnits', 'comingSoonOnMarketDate', 'livingArea', 'bathrooms', 'annualHomeownersInsurance', 'state', 'rentZestimate', 'building', 'brokerId', 'yearBuilt', 'brokerageName', 'dateSold', 'price', 'pageViewCount', 'description', 'mortgageRates', 'homeStatus', 'homeFacts', 'latitude', 'datePosted', 'bedrooms', 'nearbyHomes', 'monthlyHoaFee', 'priceHistory', 'favoriteCount', 'schools', 'zestimateHighPercent', 'mlsid', 'address', 'city', 'providerListingID', 'country', 'currency', 'listed_by', 'contingentListingType'])"
      ]
     },
     "execution_count": 33,
     "metadata": {},
     "output_type": "execute_result"
    }
   ],
   "source": [
    "res.keys()"
   ]
  },
  {
   "cell_type": "code",
   "execution_count": 35,
   "metadata": {},
   "outputs": [],
   "source": [
    "import json\n",
    "\n",
    "with open('prop_details.json', 'w') as json_file:\n",
    "    json.dump(res, json_file)"
   ]
  },
  {
   "cell_type": "markdown",
   "metadata": {},
   "source": [
    "# Calculators"
   ]
  },
  {
   "cell_type": "code",
   "execution_count": 101,
   "metadata": {},
   "outputs": [],
   "source": [
    "# inputs\n",
    "purchase_price = 1000000\n",
    "rent = 1000\n",
    "closing_costs = 0.01 * purchase_price\n",
    "equity_pct = 0.2\n",
    "loan_amt = purchase_price * (1 - equity_pct)\n",
    "irate = 0.05  # interest rate\n",
    "term = 30  # loan term in years\n",
    "\n",
    "vac = 0.1  # vacancy rate\n",
    "maint = 0.1  # maintenance cost as a percentage of rent\n",
    "pmf = 0.1  # property management fee as a percentage of rent\n",
    "txs = 0.1  # Annual tax rate\n",
    "ins = 0.1  # Annual insurance rate"
   ]
  },
  {
   "cell_type": "code",
   "execution_count": 102,
   "metadata": {},
   "outputs": [],
   "source": [
    "prop_lst = pd.read_csv(\"data.csv\")\n",
    "prop_details = pd.read_csv(\"prop_details.csv\")"
   ]
  },
  {
   "cell_type": "code",
   "execution_count": 103,
   "metadata": {},
   "outputs": [
    {
     "name": "stdout",
     "output_type": "stream",
     "text": [
      "399900\n",
      "nan\n",
      "528\n",
      "1680\n"
     ]
    }
   ],
   "source": [
    "print(prop_details[\"price\"].values[0])\n",
    "print(prop_details[\"rentZestimate\"].values[0])\n",
    "print(prop_details[\"resoFacts.taxAnnualAmount\"].values[0])\n",
    "print(prop_details[\"annualHomeownersInsurance\"].values[0])"
   ]
  },
  {
   "cell_type": "code",
   "execution_count": 107,
   "metadata": {},
   "outputs": [],
   "source": [
    "def get_mortgate_pmt(principal, irate, term):\n",
    "    \"\"\"\n",
    "    Calculate the monthly mortgage payment from mortgage details\n",
    "    \"\"\"\n",
    "    irate = irate/1200  # -> percentage rate / 12 since monthly payment\n",
    "    return float(principal) * float((irate*(1+irate)**term) / (((1+irate)**term)-1))\n",
    "\n",
    "\n",
    "def calc_expenses(rent, vac_rate, maint_rate, prop_mgmt_fees, taxes, insurance):\n",
    "    \"\"\"\n",
    "    returns all non-mortgage payment expenses for a month \n",
    "    \"\"\"\n",
    "    return (rent * vac_rate) \\\n",
    "              + (rent * maint_rate) \\\n",
    "              + (rent * prop_mgmt_fees) \\\n",
    "              + (taxes / 12) \\\n",
    "              + (insurance / 12)\n",
    "\n",
    "\n",
    "def calc_cash_flow(rent, vac_rate, maint_rate, prop_mgmt_fees, taxes, insurance, mgt_payment):\n",
    "    \"\"\"\n",
    "    determines the monthly cash flow expected from the property\n",
    "    \"\"\"\n",
    "    expenses = calc_expenses(rent, vac_rate, maint_rate, prop_mgmt_fees, taxes, insurance)\n",
    "    return rent - expenses - mgt_payment\n",
    "\n",
    "\n",
    "def calc_max_principal(rent, vac_rate, maint_rate, prop_mgmt_fees, taxes, insurance, \\\n",
    "                       irate, term, min_cf=100):\n",
    "    \"\"\"\n",
    "    Calculate the maximum principal for the property to ensure that the cash flow >= min_cf\n",
    "    \"\"\"\n",
    "    irate = irate/1200\n",
    "    expenses = calc_expenses(rent, vac_rate, maint_rate, prop_mgmt_fees, taxes, insurance)\n",
    "    qty = float((irate*(1+irate)**term) / (((1+irate)**term)-1))\n",
    "    p = (-min_cf + rent - expenses) / qty\n",
    "    return p/.8"
   ]
  },
  {
   "cell_type": "code",
   "execution_count": 40,
   "metadata": {},
   "outputs": [
    {
     "name": "stdout",
     "output_type": "stream",
     "text": [
      "(5, 1)\n"
     ]
    }
   ],
   "source": [
    "if df.shape:\n",
    "\tprint(df.shape)"
   ]
  },
  {
   "cell_type": "code",
   "execution_count": 109,
   "metadata": {},
   "outputs": [],
   "source": [
    "results = {\n",
    "\t\"zpid\": [],\n",
    "\t\"Mortgage Payment\" : [],\n",
    "\t\"Total Payments\": [],\n",
    "\t\"Total Interest\": [],\n",
    "\t\"Cash Required\": [],\n",
    "\t\"Minimum Monthly Expenses\": [],\n",
    "\t\"Monthly Cash Flow\": [],\n",
    "\t\"Max Purhcase Price\": [],\n",
    "\t\"Annual Yield (CoC ROI)\": [],\n",
    "\t\"Cap Rate\": []\n",
    "}"
   ]
  },
  {
   "cell_type": "code",
   "execution_count": 110,
   "metadata": {},
   "outputs": [],
   "source": [
    "for i, row in prop_details.iterrows():\n",
    "\tequity_pct = 0.2\n",
    "\tloan_amt = row[\"price\"] * (1 - equity_pct)\n",
    "\tpmt = get_mortgate_pmt(row[\"price\"], irate, term)\n",
    "\tresults[\"zpid\"].append(row[\"zpid\"])\n",
    "\tresults[\"Mortgage Payment\"].append(round(pmt, 2))\n",
    "\tresults[\"Total Payments\"].append(round(pmt*term, 2))\n",
    "\tresults[\"Total Interest\"].append(round((pmt*term - loan_amt), 2))\n",
    "\n",
    "\tclosing_costs = 0.01 * row[\"price\"]\n",
    "\tupfront_cash = closing_costs + (row[\"price\"] - loan_amt)\n",
    "\tresults[\"Cash Required\"].append(round(upfront_cash, 2))\n",
    "\t\n",
    "\texpenses = pmt + (row[\"resoFacts.taxAnnualAmount\"]/12) + (row[\"annualHomeownersInsurance\"]/12)      # exludes maintenance, prop. management, and vacancy\n",
    "\tresults[\"Minimum Monthly Expenses\"].append(round(expenses, 2))\n",
    "\t\n",
    "\tcf = calc_cash_flow(row[\"rentZestimate\"], vac, maint, pmf, \n",
    "\t\trow[\"resoFacts.taxAnnualAmount\"], row[\"annualHomeownersInsurance\"], pmt)\n",
    "\tresults[\"Monthly Cash Flow\"].append(round(cf, 2))\n",
    "\n",
    "\tmax_purchase = calc_max_principal(row[\"rentZestimate\"], vac, maint, pmf, \n",
    "\t\trow[\"resoFacts.taxAnnualAmount\"], row[\"annualHomeownersInsurance\"], irate, term)\n",
    "\tresults[\"Max Purhcase Price\"].append(round(max_purchase, 2))\n",
    "\n",
    "\tcap_rate = ((cf+pmt)*12)/row[\"price\"] ## cap rate = what if we bought the property with cash?\n",
    "\tresults[\"Annual Yield (CoC ROI)\"].append(round(((12*cf)/upfront_cash)*100, 2))\n",
    "\tresults[\"Cap Rate\"].append(round(cap_rate*100, 2))"
   ]
  },
  {
   "cell_type": "code",
   "execution_count": 111,
   "metadata": {},
   "outputs": [
    {
     "data": {
      "text/html": [
       "<div>\n",
       "<style scoped>\n",
       "    .dataframe tbody tr th:only-of-type {\n",
       "        vertical-align: middle;\n",
       "    }\n",
       "\n",
       "    .dataframe tbody tr th {\n",
       "        vertical-align: top;\n",
       "    }\n",
       "\n",
       "    .dataframe thead th {\n",
       "        text-align: right;\n",
       "    }\n",
       "</style>\n",
       "<table border=\"1\" class=\"dataframe\">\n",
       "  <thead>\n",
       "    <tr style=\"text-align: right;\">\n",
       "      <th></th>\n",
       "      <th>zpid</th>\n",
       "      <th>Mortgage Payment</th>\n",
       "      <th>Total Payments</th>\n",
       "      <th>Total Interest</th>\n",
       "      <th>Cash Required</th>\n",
       "      <th>Minimum Monthly Expenses</th>\n",
       "      <th>Monthly Cash Flow</th>\n",
       "      <th>Max Purhcase Price</th>\n",
       "      <th>Annual Yield (CoC ROI)</th>\n",
       "      <th>Cap Rate</th>\n",
       "    </tr>\n",
       "  </thead>\n",
       "  <tbody>\n",
       "    <tr>\n",
       "      <th>0</th>\n",
       "      <td>2067752269</td>\n",
       "      <td>13338.61</td>\n",
       "      <td>400158.32</td>\n",
       "      <td>80238.32</td>\n",
       "      <td>83979.0</td>\n",
       "      <td>13522.61</td>\n",
       "      <td>NaN</td>\n",
       "      <td>NaN</td>\n",
       "      <td>NaN</td>\n",
       "      <td>NaN</td>\n",
       "    </tr>\n",
       "    <tr>\n",
       "      <th>1</th>\n",
       "      <td>69670062</td>\n",
       "      <td>6334.09</td>\n",
       "      <td>190022.67</td>\n",
       "      <td>38102.67</td>\n",
       "      <td>39879.0</td>\n",
       "      <td>6772.67</td>\n",
       "      <td>-5653.37</td>\n",
       "      <td>21762.82</td>\n",
       "      <td>-170.12</td>\n",
       "      <td>4.30</td>\n",
       "    </tr>\n",
       "    <tr>\n",
       "      <th>2</th>\n",
       "      <td>26824177</td>\n",
       "      <td>12007.42</td>\n",
       "      <td>360222.54</td>\n",
       "      <td>72230.54</td>\n",
       "      <td>75597.9</td>\n",
       "      <td>12232.33</td>\n",
       "      <td>-11186.53</td>\n",
       "      <td>27015.67</td>\n",
       "      <td>-177.57</td>\n",
       "      <td>2.74</td>\n",
       "    </tr>\n",
       "    <tr>\n",
       "      <th>3</th>\n",
       "      <td>26799759</td>\n",
       "      <td>9339.36</td>\n",
       "      <td>280180.87</td>\n",
       "      <td>56180.87</td>\n",
       "      <td>58800.0</td>\n",
       "      <td>9807.36</td>\n",
       "      <td>-8583.06</td>\n",
       "      <td>24595.36</td>\n",
       "      <td>-175.16</td>\n",
       "      <td>3.24</td>\n",
       "    </tr>\n",
       "    <tr>\n",
       "      <th>4</th>\n",
       "      <td>26776999</td>\n",
       "      <td>7504.84</td>\n",
       "      <td>225145.34</td>\n",
       "      <td>45145.34</td>\n",
       "      <td>47250.0</td>\n",
       "      <td>7829.84</td>\n",
       "      <td>-6499.84</td>\n",
       "      <td>33915.59</td>\n",
       "      <td>-165.08</td>\n",
       "      <td>5.36</td>\n",
       "    </tr>\n",
       "  </tbody>\n",
       "</table>\n",
       "</div>"
      ],
      "text/plain": [
       "         zpid  Mortgage Payment  Total Payments  Total Interest  \\\n",
       "0  2067752269          13338.61       400158.32        80238.32   \n",
       "1    69670062           6334.09       190022.67        38102.67   \n",
       "2    26824177          12007.42       360222.54        72230.54   \n",
       "3    26799759           9339.36       280180.87        56180.87   \n",
       "4    26776999           7504.84       225145.34        45145.34   \n",
       "\n",
       "   Cash Required  Minimum Monthly Expenses  Monthly Cash Flow  \\\n",
       "0        83979.0                  13522.61                NaN   \n",
       "1        39879.0                   6772.67           -5653.37   \n",
       "2        75597.9                  12232.33          -11186.53   \n",
       "3        58800.0                   9807.36           -8583.06   \n",
       "4        47250.0                   7829.84           -6499.84   \n",
       "\n",
       "   Max Purhcase Price  Annual Yield (CoC ROI)  Cap Rate  \n",
       "0                 NaN                     NaN       NaN  \n",
       "1            21762.82                 -170.12      4.30  \n",
       "2            27015.67                 -177.57      2.74  \n",
       "3            24595.36                 -175.16      3.24  \n",
       "4            33915.59                 -165.08      5.36  "
      ]
     },
     "execution_count": 111,
     "metadata": {},
     "output_type": "execute_result"
    }
   ],
   "source": [
    "output = pd.DataFrame.from_dict(results)\n",
    "output.head()"
   ]
  },
  {
   "cell_type": "code",
   "execution_count": 105,
   "metadata": {},
   "outputs": [],
   "source": [
    "# for i, row in prop_details.iterrows():\n",
    "# \tzpid = row['zpid']\n",
    "# \tprice = row['price']\n",
    "# \trent_zestimate = row['rentZestimate']\n",
    "# \ttax_annual_amount = row['resoFacts.taxAnnualAmount']\n",
    "# \tannual_homeowners_insurance = row['annualHomeownersInsurance']\n",
    "\n",
    "# \tresults['zpid'].append(zpid)\n",
    "# \tresults['Max Purhcase Price'].append(price)\n",
    "\n",
    "# \t# Mortgage Payment\n",
    "# \tpmt = loan_amt * (irate / (1 - (1 + irate)**(-term)))\n",
    "# \tresults['Mortgage Payment'].append(pmt)\n",
    "\n",
    "# \t# Total Payments\n",
    "# \ttotal_payments = pmt + closing_costs\n",
    "# \tresults['Total Payments'].append(total_payments)\n",
    "\n",
    "# \t# Total Interest\n",
    "# \ttotal_interest = loan_amt * irate * term\n",
    "# \tresults['Total Interest'].append(total_interest)\n",
    "\n",
    "# \t# Cash Required\n",
    "# \tcash_required = loan_amt + total_interest\n",
    "# \tresults['Cash Required'].append(cash_required)\n",
    "\n",
    "# \t# Minimum Monthly Expenses\n",
    "# \tmin_monthly_expenses = rent + pmf + maint + txs + ins\n",
    "# \tresults['Minimum Monthly Expenses'].append(min_monthly_expenses)\n",
    "\n",
    "# \t# Monthly Cash Flow\n",
    "# \tmonthly_cash_flow = (rent - min_monthly_expenses) / (1 - (vac / 12))\n",
    "# \tresults['Monthly Cash Flow'].append(monthly_cash_flow)\n",
    "\n",
    "# \t# Annual Yield (CoC ROI)\n",
    "# \tannual_yield = (monthly_cash_flow / price) * 12\n",
    "# \tresults['Annual Yield (CoC ROI)'].append(annual_yield)\n",
    "\n",
    "# \t# Cap Rate\n",
    "# \tcap_rate = (price - cash_required) / price\n",
    "# \tresults['Cap Rate'].append(cap_rate)"
   ]
  },
  {
   "cell_type": "code",
   "execution_count": 106,
   "metadata": {},
   "outputs": [
    {
     "data": {
      "text/html": [
       "<div>\n",
       "<style scoped>\n",
       "    .dataframe tbody tr th:only-of-type {\n",
       "        vertical-align: middle;\n",
       "    }\n",
       "\n",
       "    .dataframe tbody tr th {\n",
       "        vertical-align: top;\n",
       "    }\n",
       "\n",
       "    .dataframe thead th {\n",
       "        text-align: right;\n",
       "    }\n",
       "</style>\n",
       "<table border=\"1\" class=\"dataframe\">\n",
       "  <thead>\n",
       "    <tr style=\"text-align: right;\">\n",
       "      <th></th>\n",
       "      <th>zpid</th>\n",
       "      <th>Mortgage Payment</th>\n",
       "      <th>Total Payments</th>\n",
       "      <th>Total Interest</th>\n",
       "      <th>Cash Required</th>\n",
       "      <th>Minimum Monthly Expenses</th>\n",
       "      <th>Monthly Cash Flow</th>\n",
       "      <th>Max Purhcase Price</th>\n",
       "      <th>Annual Yield (CoC ROI)</th>\n",
       "      <th>Cap Rate</th>\n",
       "    </tr>\n",
       "  </thead>\n",
       "  <tbody>\n",
       "    <tr>\n",
       "      <th>0</th>\n",
       "      <td>2067752269</td>\n",
       "      <td>52041.148064</td>\n",
       "      <td>62041.148064</td>\n",
       "      <td>1200000.0</td>\n",
       "      <td>2000000.0</td>\n",
       "      <td>1000.4</td>\n",
       "      <td>-0.403361</td>\n",
       "      <td>399900</td>\n",
       "      <td>-0.000012</td>\n",
       "      <td>-4.001250</td>\n",
       "    </tr>\n",
       "    <tr>\n",
       "      <th>1</th>\n",
       "      <td>69670062</td>\n",
       "      <td>52041.148064</td>\n",
       "      <td>62041.148064</td>\n",
       "      <td>1200000.0</td>\n",
       "      <td>2000000.0</td>\n",
       "      <td>1000.4</td>\n",
       "      <td>-0.403361</td>\n",
       "      <td>189900</td>\n",
       "      <td>-0.000025</td>\n",
       "      <td>-9.531859</td>\n",
       "    </tr>\n",
       "    <tr>\n",
       "      <th>2</th>\n",
       "      <td>26824177</td>\n",
       "      <td>52041.148064</td>\n",
       "      <td>62041.148064</td>\n",
       "      <td>1200000.0</td>\n",
       "      <td>2000000.0</td>\n",
       "      <td>1000.4</td>\n",
       "      <td>-0.403361</td>\n",
       "      <td>359990</td>\n",
       "      <td>-0.000013</td>\n",
       "      <td>-4.555710</td>\n",
       "    </tr>\n",
       "    <tr>\n",
       "      <th>3</th>\n",
       "      <td>26799759</td>\n",
       "      <td>52041.148064</td>\n",
       "      <td>62041.148064</td>\n",
       "      <td>1200000.0</td>\n",
       "      <td>2000000.0</td>\n",
       "      <td>1000.4</td>\n",
       "      <td>-0.403361</td>\n",
       "      <td>280000</td>\n",
       "      <td>-0.000017</td>\n",
       "      <td>-6.142857</td>\n",
       "    </tr>\n",
       "    <tr>\n",
       "      <th>4</th>\n",
       "      <td>26776999</td>\n",
       "      <td>52041.148064</td>\n",
       "      <td>62041.148064</td>\n",
       "      <td>1200000.0</td>\n",
       "      <td>2000000.0</td>\n",
       "      <td>1000.4</td>\n",
       "      <td>-0.403361</td>\n",
       "      <td>225000</td>\n",
       "      <td>-0.000022</td>\n",
       "      <td>-7.888889</td>\n",
       "    </tr>\n",
       "  </tbody>\n",
       "</table>\n",
       "</div>"
      ],
      "text/plain": [
       "         zpid  Mortgage Payment  Total Payments  Total Interest  \\\n",
       "0  2067752269      52041.148064    62041.148064       1200000.0   \n",
       "1    69670062      52041.148064    62041.148064       1200000.0   \n",
       "2    26824177      52041.148064    62041.148064       1200000.0   \n",
       "3    26799759      52041.148064    62041.148064       1200000.0   \n",
       "4    26776999      52041.148064    62041.148064       1200000.0   \n",
       "\n",
       "   Cash Required  Minimum Monthly Expenses  Monthly Cash Flow  \\\n",
       "0      2000000.0                    1000.4          -0.403361   \n",
       "1      2000000.0                    1000.4          -0.403361   \n",
       "2      2000000.0                    1000.4          -0.403361   \n",
       "3      2000000.0                    1000.4          -0.403361   \n",
       "4      2000000.0                    1000.4          -0.403361   \n",
       "\n",
       "   Max Purhcase Price  Annual Yield (CoC ROI)  Cap Rate  \n",
       "0              399900               -0.000012 -4.001250  \n",
       "1              189900               -0.000025 -9.531859  \n",
       "2              359990               -0.000013 -4.555710  \n",
       "3              280000               -0.000017 -6.142857  \n",
       "4              225000               -0.000022 -7.888889  "
      ]
     },
     "execution_count": 106,
     "metadata": {},
     "output_type": "execute_result"
    }
   ],
   "source": [
    "output = pd.DataFrame.from_dict(results)\n",
    "output.head()"
   ]
  },
  {
   "cell_type": "code",
   "execution_count": 112,
   "metadata": {},
   "outputs": [],
   "source": [
    "output.to_csv('output.csv')"
   ]
  },
  {
   "cell_type": "code",
   "execution_count": 1,
   "metadata": {},
   "outputs": [],
   "source": [
    "import pandas as pd"
   ]
  },
  {
   "cell_type": "code",
   "execution_count": 2,
   "metadata": {},
   "outputs": [],
   "source": [
    "core_assumptions = {\n",
    "\t\"Monthly Gross Rent ($/mo)\": 1500,\n",
    "\t\"Purchase Price ($)\": 1000000,\n",
    "\t\"Purchase Date\": \"2019-01-01\",\n",
    "\t\"Closing Costs ($)\": 2000,\n",
    "\t\"Extra Cash Reserves ($)\": 2500,\n",
    "}"
   ]
  },
  {
   "cell_type": "code",
   "execution_count": 4,
   "metadata": {},
   "outputs": [
    {
     "data": {
      "text/html": [
       "<div>\n",
       "<style scoped>\n",
       "    .dataframe tbody tr th:only-of-type {\n",
       "        vertical-align: middle;\n",
       "    }\n",
       "\n",
       "    .dataframe tbody tr th {\n",
       "        vertical-align: top;\n",
       "    }\n",
       "\n",
       "    .dataframe thead th {\n",
       "        text-align: right;\n",
       "    }\n",
       "</style>\n",
       "<table border=\"1\" class=\"dataframe\">\n",
       "  <thead>\n",
       "    <tr style=\"text-align: right;\">\n",
       "      <th></th>\n",
       "      <th>0</th>\n",
       "    </tr>\n",
       "  </thead>\n",
       "  <tbody>\n",
       "    <tr>\n",
       "      <th>Monthly Gross Rent ($/mo)</th>\n",
       "      <td>1500</td>\n",
       "    </tr>\n",
       "    <tr>\n",
       "      <th>Purchase Price ($)</th>\n",
       "      <td>1000000</td>\n",
       "    </tr>\n",
       "    <tr>\n",
       "      <th>Purchase Date</th>\n",
       "      <td>2019-01-01</td>\n",
       "    </tr>\n",
       "    <tr>\n",
       "      <th>Closing Costs ($)</th>\n",
       "      <td>2000</td>\n",
       "    </tr>\n",
       "    <tr>\n",
       "      <th>Extra Cash Reserves ($)</th>\n",
       "      <td>2500</td>\n",
       "    </tr>\n",
       "  </tbody>\n",
       "</table>\n",
       "</div>"
      ],
      "text/plain": [
       "                                    0\n",
       "Monthly Gross Rent ($/mo)        1500\n",
       "Purchase Price ($)            1000000\n",
       "Purchase Date              2019-01-01\n",
       "Closing Costs ($)                2000\n",
       "Extra Cash Reserves ($)          2500"
      ]
     },
     "execution_count": 4,
     "metadata": {},
     "output_type": "execute_result"
    }
   ],
   "source": [
    "pd.DataFrame.from_dict(core_assumptions, orient='index')"
   ]
  },
  {
   "cell_type": "code",
   "execution_count": null,
   "metadata": {},
   "outputs": [],
   "source": []
  }
 ],
 "metadata": {
  "interpreter": {
   "hash": "aee8b7b246df8f9039afb4144a1f6fd8d2ca17a180786b69acc140d282b71a49"
  },
  "kernelspec": {
   "display_name": "Python 3.9.10 64-bit",
   "language": "python",
   "name": "python3"
  },
  "language_info": {
   "codemirror_mode": {
    "name": "ipython",
    "version": 3
   },
   "file_extension": ".py",
   "mimetype": "text/x-python",
   "name": "python",
   "nbconvert_exporter": "python",
   "pygments_lexer": "ipython3",
   "version": "3.9.10"
  },
  "orig_nbformat": 4
 },
 "nbformat": 4,
 "nbformat_minor": 2
}
