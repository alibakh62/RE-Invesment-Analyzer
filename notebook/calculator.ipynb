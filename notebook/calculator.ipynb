{
 "cells": [
  {
   "cell_type": "markdown",
   "metadata": {},
   "source": [
    "# Getting the data"
   ]
  },
  {
   "cell_type": "code",
   "execution_count": 1,
   "metadata": {},
   "outputs": [],
   "source": [
    "import numpy as np\n",
    "import pandas as pd\n",
    "import numpy_financial as npf"
   ]
  },
  {
   "cell_type": "code",
   "execution_count": 7,
   "metadata": {},
   "outputs": [],
   "source": [
    "cash_flow = [-100, 10, 30, 40, 50, 60, 70, 80, 90, 100]"
   ]
  },
  {
   "cell_type": "code",
   "execution_count": 14,
   "metadata": {},
   "outputs": [],
   "source": [
    "def irr(values):\n",
    "\t\"\"\"\n",
    "\tReturns the internal rate of return for a schedule of cash flows that is not necessarily periodic. \n",
    "\tArgs:\n",
    "\t\t- values: A series of cash flows that corresponds to a schedule of payments in dates.\n",
    "\t\"\"\"\n",
    "\t# There should be at least one positive and one negative cash flow.\n",
    "\tif not any(i < 0 for i in values):\n",
    "\t\traise Exception(\"There should be at least one negative cash flow.\")\n",
    "\tif not any(i > 0 for i in values):\n",
    "\t\traise Exception(\"There should be at least one positive cash flow.\")\n",
    "\treturn np.round(npf.irr(values), 4)*100"
   ]
  },
  {
   "cell_type": "code",
   "execution_count": 15,
   "metadata": {},
   "outputs": [
    {
     "data": {
      "text/plain": [
       "36.39"
      ]
     },
     "execution_count": 15,
     "metadata": {},
     "output_type": "execute_result"
    }
   ],
   "source": [
    "irr(cash_flow)"
   ]
  },
  {
   "cell_type": "code",
   "execution_count": 19,
   "metadata": {},
   "outputs": [],
   "source": [
    "import requests\n",
    "import pandas as pd\n",
    "\n",
    "search_data = pd.read_csv(\"data.csv\")"
   ]
  },
  {
   "cell_type": "code",
   "execution_count": 21,
   "metadata": {},
   "outputs": [],
   "source": [
    "zpids = search_data['zpid'].tolist()"
   ]
  },
  {
   "cell_type": "code",
   "execution_count": 23,
   "metadata": {},
   "outputs": [
    {
     "data": {
      "text/plain": [
       "69670062"
      ]
     },
     "execution_count": 23,
     "metadata": {},
     "output_type": "execute_result"
    }
   ],
   "source": [
    "zpids[1]"
   ]
  },
  {
   "cell_type": "code",
   "execution_count": 65,
   "metadata": {},
   "outputs": [
    {
     "data": {
      "text/plain": [
       "40"
      ]
     },
     "execution_count": 65,
     "metadata": {},
     "output_type": "execute_result"
    }
   ],
   "source": [
    "len(zpids)"
   ]
  },
  {
   "cell_type": "code",
   "execution_count": null,
   "metadata": {},
   "outputs": [],
   "source": [
    "import time\n",
    "\n",
    "print(time.time())\n",
    "for i in range(10):\n",
    "\tprint(i)\n",
    "\tprint(time.time())\n",
    "\tif (i % 2 == 0) & (i != 0):\n",
    "\t\tprint(\"sleep for 5 seconds\")\n",
    "\t\ttime.sleep(5)\n",
    "\t\tprint(time.time())\n",
    "\t\tprint(\"-\"*50)\n",
    "\telse:\n",
    "\t\tprint(\"no sleep\")\n",
    "\t\tprint(time.time())\n",
    "\t\tprint(\"-\"*50)\n",
    "\n"
   ]
  },
  {
   "cell_type": "code",
   "execution_count": 78,
   "metadata": {},
   "outputs": [],
   "source": [
    "# The API processes 2 requests per second.\n",
    "import time\n",
    "\n",
    "df = pd.DataFrame()\n",
    "for i, zpid in enumerate(zpids):\n",
    "\tif (i % 2 == 0) & (i != 0):\n",
    "\t\ttime.sleep(5)\n",
    "\t\turl = \"https://zillow-com1.p.rapidapi.com/property\"\n",
    "\n",
    "\t\tquerystring = {\"zpid\":f\"{zpid}\"}\n",
    "\n",
    "\t\theaders = {\n",
    "\t\t\t\"X-RapidAPI-Host\": \"zillow-com1.p.rapidapi.com\",\n",
    "\t\t\t\"X-RapidAPI-Key\": \"a271625fdbmsh9c07327c04cb02bp1314d1jsn9ac44145b089\"\n",
    "\t\t}\n",
    "\n",
    "\t\tresponse = requests.request(\"GET\", url, headers=headers, params=querystring)\n",
    "\t\tdata_json = response.json()\n",
    "\t\tdf0 = pd.json_normalize(data_json)\n",
    "\t\tdf = pd.concat([df, df0], axis=0)\n",
    "\telse:\n",
    "\t\turl = \"https://zillow-com1.p.rapidapi.com/property\"\n",
    "\n",
    "\t\tquerystring = {\"zpid\":f\"{zpid}\"}\n",
    "\n",
    "\t\theaders = {\n",
    "\t\t\t\"X-RapidAPI-Host\": \"zillow-com1.p.rapidapi.com\",\n",
    "\t\t\t\"X-RapidAPI-Key\": \"a271625fdbmsh9c07327c04cb02bp1314d1jsn9ac44145b089\"\n",
    "\t\t}\n",
    "\n",
    "\t\tresponse = requests.request(\"GET\", url, headers=headers, params=querystring)\n",
    "\t\tdata_json = response.json()\n",
    "\t\tdf0 = pd.json_normalize(data_json)\n",
    "\t\tdf = pd.concat([df, df0], axis=0)"
   ]
  },
  {
   "cell_type": "code",
   "execution_count": 79,
   "metadata": {},
   "outputs": [
    {
     "data": {
      "text/plain": [
       "(40, 262)"
      ]
     },
     "execution_count": 79,
     "metadata": {},
     "output_type": "execute_result"
    }
   ],
   "source": [
    "df.shape"
   ]
  },
  {
   "cell_type": "code",
   "execution_count": 34,
   "metadata": {},
   "outputs": [
    {
     "data": {
      "text/plain": [
       "datetime.datetime(2020, 1, 1, 0, 0)"
      ]
     },
     "execution_count": 34,
     "metadata": {},
     "output_type": "execute_result"
    }
   ],
   "source": [
    "from datetime import datetime\n",
    "\n",
    "datetime.strptime('2020-01-01', '%Y-%m-%d')"
   ]
  },
  {
   "cell_type": "code",
   "execution_count": 35,
   "metadata": {},
   "outputs": [],
   "source": [
    "import json\n",
    "\n",
    "user_assumptions = {}\n",
    "\n",
    "user_assumptions['monthly_gross_rent'] = 1_500\n",
    "user_assumptions['purchase_price'] = 300_000\n",
    "user_assumptions['purchase_date'] = \"2020-01-01\"\n",
    "user_assumptions['closing_costs'] = 3_000\n",
    "user_assumptions['extra_cash_reserves'] = 5_000\n",
    "user_assumptions['eqt_pct'] = 0.5\n",
    "user_assumptions['amort_period'] = 30\n",
    "user_assumptions['int_rate_on_debt'] = 0.05\n",
    "user_assumptions['renovation_costs'] = 10_000\n",
    "user_assumptions['renovation_period'] = 4\n",
    "user_assumptions['exit_renovation_cost'] = 5_000\n",
    "user_assumptions['length_hold'] = 7\n",
    "user_assumptions['appr_rate'] = 0.02\n",
    "user_assumptions['sales_price_at_exit'] = 400_000\n",
    "user_assumptions['cost_of_sale'] = 0.06\n",
    "user_assumptions['vacancy_rate'] = 0.0775\n",
    "user_assumptions['rent_growth_rate'] = 0.01\n",
    "user_assumptions['repairs'] = 0.01\n",
    "user_assumptions['property_taxes'] = 3_000\n",
    "user_assumptions['insurance'] = 500\n",
    "user_assumptions['utilities'] = 40\n",
    "user_assumptions['property_manager_fee'] = 0.01\n",
    "user_assumptions['discount_rate'] = 0.05\n",
    "\n",
    "\n",
    "\n",
    "fn = json.dumps(user_assumptions)\n",
    "with open('../data/user_assumptions_test.json', 'w') as f:\n",
    "    f.write(fn)"
   ]
  },
  {
   "cell_type": "code",
   "execution_count": 36,
   "metadata": {},
   "outputs": [
    {
     "data": {
      "text/plain": [
       "{'monthly_gross_rent': 1500,\n",
       " 'purchase_price': 300000,\n",
       " 'purchase_date': '2020-01-01',\n",
       " 'closing_costs': 3000,\n",
       " 'extra_cash_reserves': 5000,\n",
       " 'eqt_pct': 0.5,\n",
       " 'amort_period': 30,\n",
       " 'int_rate_on_debt': 0.05,\n",
       " 'renovation_costs': 10000,\n",
       " 'renovation_period': 4,\n",
       " 'exit_renovation_cost': 5000,\n",
       " 'length_hold': 7,\n",
       " 'appr_rate': 0.02,\n",
       " 'sales_price_at_exit': 400000,\n",
       " 'cost_of_sale': 0.06,\n",
       " 'vacancy_rate': 0.0775,\n",
       " 'rent_growth_rate': 0.01,\n",
       " 'repairs': 0.01,\n",
       " 'property_taxes': 3000,\n",
       " 'insurance': 500,\n",
       " 'utilities': 40,\n",
       " 'property_manager_fee': 0.01,\n",
       " 'discount_rate': 0.05}"
      ]
     },
     "execution_count": 36,
     "metadata": {},
     "output_type": "execute_result"
    }
   ],
   "source": [
    "with open('../data/user_assumptions_test.json', 'r') as f:\n",
    "    user_assumptions = json.load(f)\n",
    "user_assumptions"
   ]
  },
  {
   "cell_type": "code",
   "execution_count": 37,
   "metadata": {},
   "outputs": [
    {
     "data": {
      "text/html": [
       "<div><div id=0a9389e9-382f-4285-a751-d014d2eeda7a style=\"display:none; background-color:#9D6CFF; color:white; width:200px; height:30px; padding-left:5px; border-radius:4px; flex-direction:row; justify-content:space-around; align-items:center;\" onmouseover=\"this.style.backgroundColor='#BA9BF8'\" onmouseout=\"this.style.backgroundColor='#9D6CFF'\" onclick=\"window.commands?.execute('create-mitosheet-from-dataframe-output');\">See Full Dataframe in Mito</div> <script> if (window.commands.hasCommand('create-mitosheet-from-dataframe-output')) document.getElementById('0a9389e9-382f-4285-a751-d014d2eeda7a').style.display = 'flex' </script> <table border=\"1\" class=\"dataframe\">\n",
       "  <thead>\n",
       "    <tr style=\"text-align: right;\">\n",
       "      <th></th>\n",
       "      <th>0</th>\n",
       "    </tr>\n",
       "  </thead>\n",
       "  <tbody>\n",
       "    <tr>\n",
       "      <th>Monthly Gross Rent ($/mo)</th>\n",
       "      <td>1500</td>\n",
       "    </tr>\n",
       "    <tr>\n",
       "      <th>Purchase Price ($)</th>\n",
       "      <td>300000</td>\n",
       "    </tr>\n",
       "    <tr>\n",
       "      <th>Purchase Date</th>\n",
       "      <td>2020-01-01 00:00:00</td>\n",
       "    </tr>\n",
       "    <tr>\n",
       "      <th>Closing Costs ($)</th>\n",
       "      <td>3000</td>\n",
       "    </tr>\n",
       "    <tr>\n",
       "      <th>Extra Cash Reserves ($)</th>\n",
       "      <td>5000</td>\n",
       "    </tr>\n",
       "  </tbody>\n",
       "</table></div>"
      ],
      "text/plain": [
       "                                             0\n",
       "Monthly Gross Rent ($/mo)                 1500\n",
       "Purchase Price ($)                      300000\n",
       "Purchase Date              2020-01-01 00:00:00\n",
       "Closing Costs ($)                         3000\n",
       "Extra Cash Reserves ($)                   5000"
      ]
     },
     "execution_count": 37,
     "metadata": {},
     "output_type": "execute_result"
    }
   ],
   "source": [
    "core_assumptions = {\n",
    "    \"Monthly Gross Rent ($/mo)\": user_assumptions[\"monthly_gross_rent\"],\n",
    "    \"Purchase Price ($)\": user_assumptions[\"purchase_price\"],\n",
    "    \"Purchase Date\": datetime.strptime(user_assumptions[\"purchase_date\"], '%Y-%m-%d'),\n",
    "    \"Closing Costs ($)\": user_assumptions[\"closing_costs\"],\n",
    "    \"Extra Cash Reserves ($)\": user_assumptions[\"extra_cash_reserves\"],\n",
    "}\n",
    "\n",
    "df = pd.DataFrame.from_dict(core_assumptions, orient='index')\n",
    "df.head()"
   ]
  },
  {
   "cell_type": "code",
   "execution_count": 80,
   "metadata": {},
   "outputs": [],
   "source": [
    "df.to_csv(\"prop_details.csv\", index=False)"
   ]
  },
  {
   "cell_type": "code",
   "execution_count": null,
   "metadata": {},
   "outputs": [],
   "source": [
    "url = \"https://zillow-com1.p.rapidapi.com/property\"\n",
    "\n",
    "querystring = {\"zpid\":\"69670062\"}\n",
    "\n",
    "headers = {\n",
    "\t\"X-RapidAPI-Host\": \"zillow-com1.p.rapidapi.com\",\n",
    "\t\"X-RapidAPI-Key\": \"a271625fdbmsh9c07327c04cb02bp1314d1jsn9ac44145b089\"\n",
    "}\n",
    "\n",
    "response = requests.request(\"GET\", url, headers=headers, params=querystring)"
   ]
  },
  {
   "cell_type": "code",
   "execution_count": 55,
   "metadata": {},
   "outputs": [
    {
     "data": {
      "text/plain": [
       "Index(['listingProvider', 'buildingPermits', 'propertyTaxRate',\n",
       "       'contact_recipients', 'longitude', 'countyFIPS', 'cityId',\n",
       "       'timeOnZillow', 'url', 'zestimate',\n",
       "       ...\n",
       "       'listed_by.zpro', 'listed_by.recent_sales', 'listed_by.review_count',\n",
       "       'listed_by.display_name', 'listed_by.badge_type',\n",
       "       'listed_by.business_name', 'listed_by.rating_average',\n",
       "       'listed_by.phone', 'listed_by.zuid', 'listed_by.image_url'],\n",
       "      dtype='object', length=256)"
      ]
     },
     "execution_count": 55,
     "metadata": {},
     "output_type": "execute_result"
    }
   ],
   "source": [
    "data_json = response.json()\n",
    "df = pd.json_normalize(data_json)\n",
    "df.columns\n"
   ]
  },
  {
   "cell_type": "code",
   "execution_count": 58,
   "metadata": {},
   "outputs": [
    {
     "data": {
      "text/plain": [
       "0    149\n",
       "Name: resoFacts.pricePerSquareFoot, dtype: int64"
      ]
     },
     "execution_count": 58,
     "metadata": {},
     "output_type": "execute_result"
    }
   ],
   "source": [
    "df['resoFacts.pricePerSquareFoot']"
   ]
  },
  {
   "cell_type": "code",
   "execution_count": 59,
   "metadata": {},
   "outputs": [
    {
     "data": {
      "text/html": [
       "<div>\n",
       "<style scoped>\n",
       "    .dataframe tbody tr th:only-of-type {\n",
       "        vertical-align: middle;\n",
       "    }\n",
       "\n",
       "    .dataframe tbody tr th {\n",
       "        vertical-align: top;\n",
       "    }\n",
       "\n",
       "    .dataframe thead th {\n",
       "        text-align: right;\n",
       "    }\n",
       "</style>\n",
       "<table border=\"1\" class=\"dataframe\">\n",
       "  <thead>\n",
       "    <tr style=\"text-align: right;\">\n",
       "      <th></th>\n",
       "      <th>listingProvider</th>\n",
       "      <th>buildingPermits</th>\n",
       "      <th>propertyTaxRate</th>\n",
       "    </tr>\n",
       "  </thead>\n",
       "  <tbody>\n",
       "    <tr>\n",
       "      <th>0</th>\n",
       "      <td>None</td>\n",
       "      <td>None</td>\n",
       "      <td>2.19</td>\n",
       "    </tr>\n",
       "  </tbody>\n",
       "</table>\n",
       "</div>"
      ],
      "text/plain": [
       "  listingProvider buildingPermits  propertyTaxRate\n",
       "0            None            None             2.19"
      ]
     },
     "execution_count": 59,
     "metadata": {},
     "output_type": "execute_result"
    }
   ],
   "source": [
    "df0 = df[['listingProvider', 'buildingPermits', 'propertyTaxRate']]\n",
    "df0.head()"
   ]
  },
  {
   "cell_type": "code",
   "execution_count": 64,
   "metadata": {},
   "outputs": [
    {
     "data": {
      "text/html": [
       "<div>\n",
       "<style scoped>\n",
       "    .dataframe tbody tr th:only-of-type {\n",
       "        vertical-align: middle;\n",
       "    }\n",
       "\n",
       "    .dataframe tbody tr th {\n",
       "        vertical-align: top;\n",
       "    }\n",
       "\n",
       "    .dataframe thead th {\n",
       "        text-align: right;\n",
       "    }\n",
       "</style>\n",
       "<table border=\"1\" class=\"dataframe\">\n",
       "  <thead>\n",
       "    <tr style=\"text-align: right;\">\n",
       "      <th></th>\n",
       "      <th>listingProvider</th>\n",
       "      <th>buildingPermits</th>\n",
       "      <th>propertyTaxRate</th>\n",
       "    </tr>\n",
       "  </thead>\n",
       "  <tbody>\n",
       "    <tr>\n",
       "      <th>0</th>\n",
       "      <td>None</td>\n",
       "      <td>None</td>\n",
       "      <td>2.19</td>\n",
       "    </tr>\n",
       "  </tbody>\n",
       "</table>\n",
       "</div>"
      ],
      "text/plain": [
       "  listingProvider buildingPermits  propertyTaxRate\n",
       "0            None            None             2.19"
      ]
     },
     "execution_count": 64,
     "metadata": {},
     "output_type": "execute_result"
    }
   ],
   "source": [
    "df2 = pd.DataFrame()\n",
    "df1 = pd.concat((df0, df2), axis=0)\n",
    "df1.head()"
   ]
  },
  {
   "cell_type": "code",
   "execution_count": 31,
   "metadata": {},
   "outputs": [],
   "source": [
    "res = response.json()"
   ]
  },
  {
   "cell_type": "code",
   "execution_count": 52,
   "metadata": {},
   "outputs": [
    {
     "name": "stdout",
     "output_type": "stream",
     "text": [
      "2.19\n",
      "236400\n",
      "1599\n",
      "189900\n",
      "{'arm5Rate': 4.385, 'fifteenYearFixedRate': 4.087, 'thirtyYearFixedRate': 4.671}\n",
      "None\n",
      "149\n",
      "798\n"
     ]
    }
   ],
   "source": [
    "print(res['propertyTaxRate'])\n",
    "print(res['zestimate'])\n",
    "print(res['rentZestimate'])\n",
    "print(res['price'])\n",
    "print(res['mortgageRates'])\n",
    "print(res['monthlyHoaFee'])\n",
    "print(res['resoFacts']['pricePerSquareFoot'])\n",
    "print(res['annualHomeownersInsurance'])"
   ]
  },
  {
   "cell_type": "code",
   "execution_count": 33,
   "metadata": {},
   "outputs": [
    {
     "data": {
      "text/plain": [
       "dict_keys(['listingProvider', 'buildingPermits', 'propertyTaxRate', 'contact_recipients', 'solarPotential', 'longitude', 'countyFIPS', 'cityId', 'timeOnZillow', 'url', 'zestimate', 'imgSrc', 'zpid', 'zipcode', 'livingAreaValue', 'zestimateLowPercent', 'isListedByOwner', 'propertyTypeDimension', 'resoFacts', 'streetAddress', 'county', 'taxHistory', 'stateId', 'countyId', 'timeZone', 'homeType', 'livingAreaUnits', 'comingSoonOnMarketDate', 'livingArea', 'bathrooms', 'annualHomeownersInsurance', 'state', 'rentZestimate', 'building', 'brokerId', 'yearBuilt', 'brokerageName', 'dateSold', 'price', 'pageViewCount', 'description', 'mortgageRates', 'homeStatus', 'homeFacts', 'latitude', 'datePosted', 'bedrooms', 'nearbyHomes', 'monthlyHoaFee', 'priceHistory', 'favoriteCount', 'schools', 'zestimateHighPercent', 'mlsid', 'address', 'city', 'providerListingID', 'country', 'currency', 'listed_by', 'contingentListingType'])"
      ]
     },
     "execution_count": 33,
     "metadata": {},
     "output_type": "execute_result"
    }
   ],
   "source": [
    "res.keys()"
   ]
  },
  {
   "cell_type": "code",
   "execution_count": 35,
   "metadata": {},
   "outputs": [],
   "source": [
    "import json\n",
    "\n",
    "with open('prop_details.json', 'w') as json_file:\n",
    "    json.dump(res, json_file)"
   ]
  },
  {
   "cell_type": "markdown",
   "metadata": {},
   "source": [
    "# Calculators"
   ]
  },
  {
   "cell_type": "code",
   "execution_count": 101,
   "metadata": {},
   "outputs": [],
   "source": [
    "# inputs\n",
    "purchase_price = 1000000\n",
    "rent = 1000\n",
    "closing_costs = 0.01 * purchase_price\n",
    "equity_pct = 0.2\n",
    "loan_amt = purchase_price * (1 - equity_pct)\n",
    "irate = 0.05  # interest rate\n",
    "term = 30  # loan term in years\n",
    "\n",
    "vac = 0.1  # vacancy rate\n",
    "maint = 0.1  # maintenance cost as a percentage of rent\n",
    "pmf = 0.1  # property management fee as a percentage of rent\n",
    "txs = 0.1  # Annual tax rate\n",
    "ins = 0.1  # Annual insurance rate"
   ]
  },
  {
   "cell_type": "code",
   "execution_count": 102,
   "metadata": {},
   "outputs": [],
   "source": [
    "prop_lst = pd.read_csv(\"data.csv\")\n",
    "prop_details = pd.read_csv(\"prop_details.csv\")"
   ]
  },
  {
   "cell_type": "code",
   "execution_count": 103,
   "metadata": {},
   "outputs": [
    {
     "name": "stdout",
     "output_type": "stream",
     "text": [
      "399900\n",
      "nan\n",
      "528\n",
      "1680\n"
     ]
    }
   ],
   "source": [
    "print(prop_details[\"price\"].values[0])\n",
    "print(prop_details[\"rentZestimate\"].values[0])\n",
    "print(prop_details[\"resoFacts.taxAnnualAmount\"].values[0])\n",
    "print(prop_details[\"annualHomeownersInsurance\"].values[0])"
   ]
  },
  {
   "cell_type": "code",
   "execution_count": 107,
   "metadata": {},
   "outputs": [],
   "source": [
    "def get_mortgate_pmt(principal, irate, term):\n",
    "    \"\"\"\n",
    "    Calculate the monthly mortgage payment from mortgage details\n",
    "    \"\"\"\n",
    "    irate = irate/1200  # -> percentage rate / 12 since monthly payment\n",
    "    return float(principal) * float((irate*(1+irate)**term) / (((1+irate)**term)-1))\n",
    "\n",
    "\n",
    "def calc_expenses(rent, vac_rate, maint_rate, prop_mgmt_fees, taxes, insurance):\n",
    "    \"\"\"\n",
    "    returns all non-mortgage payment expenses for a month \n",
    "    \"\"\"\n",
    "    return (rent * vac_rate) \\\n",
    "              + (rent * maint_rate) \\\n",
    "              + (rent * prop_mgmt_fees) \\\n",
    "              + (taxes / 12) \\\n",
    "              + (insurance / 12)\n",
    "\n",
    "\n",
    "def calc_cash_flow(rent, vac_rate, maint_rate, prop_mgmt_fees, taxes, insurance, mgt_payment):\n",
    "    \"\"\"\n",
    "    determines the monthly cash flow expected from the property\n",
    "    \"\"\"\n",
    "    expenses = calc_expenses(rent, vac_rate, maint_rate, prop_mgmt_fees, taxes, insurance)\n",
    "    return rent - expenses - mgt_payment\n",
    "\n",
    "\n",
    "def calc_max_principal(rent, vac_rate, maint_rate, prop_mgmt_fees, taxes, insurance, \\\n",
    "                       irate, term, min_cf=100):\n",
    "    \"\"\"\n",
    "    Calculate the maximum principal for the property to ensure that the cash flow >= min_cf\n",
    "    \"\"\"\n",
    "    irate = irate/1200\n",
    "    expenses = calc_expenses(rent, vac_rate, maint_rate, prop_mgmt_fees, taxes, insurance)\n",
    "    qty = float((irate*(1+irate)**term) / (((1+irate)**term)-1))\n",
    "    p = (-min_cf + rent - expenses) / qty\n",
    "    return p/.8"
   ]
  },
  {
   "cell_type": "code",
   "execution_count": 40,
   "metadata": {},
   "outputs": [
    {
     "name": "stdout",
     "output_type": "stream",
     "text": [
      "(5, 1)\n"
     ]
    }
   ],
   "source": [
    "if df.shape:\n",
    "\tprint(df.shape)"
   ]
  },
  {
   "cell_type": "code",
   "execution_count": 109,
   "metadata": {},
   "outputs": [],
   "source": [
    "results = {\n",
    "\t\"zpid\": [],\n",
    "\t\"Mortgage Payment\" : [],\n",
    "\t\"Total Payments\": [],\n",
    "\t\"Total Interest\": [],\n",
    "\t\"Cash Required\": [],\n",
    "\t\"Minimum Monthly Expenses\": [],\n",
    "\t\"Monthly Cash Flow\": [],\n",
    "\t\"Max Purhcase Price\": [],\n",
    "\t\"Annual Yield (CoC ROI)\": [],\n",
    "\t\"Cap Rate\": []\n",
    "}"
   ]
  },
  {
   "cell_type": "code",
   "execution_count": 110,
   "metadata": {},
   "outputs": [],
   "source": [
    "for i, row in prop_details.iterrows():\n",
    "\tequity_pct = 0.2\n",
    "\tloan_amt = row[\"price\"] * (1 - equity_pct)\n",
    "\tpmt = get_mortgate_pmt(row[\"price\"], irate, term)\n",
    "\tresults[\"zpid\"].append(row[\"zpid\"])\n",
    "\tresults[\"Mortgage Payment\"].append(round(pmt, 2))\n",
    "\tresults[\"Total Payments\"].append(round(pmt*term, 2))\n",
    "\tresults[\"Total Interest\"].append(round((pmt*term - loan_amt), 2))\n",
    "\n",
    "\tclosing_costs = 0.01 * row[\"price\"]\n",
    "\tupfront_cash = closing_costs + (row[\"price\"] - loan_amt)\n",
    "\tresults[\"Cash Required\"].append(round(upfront_cash, 2))\n",
    "\t\n",
    "\texpenses = pmt + (row[\"resoFacts.taxAnnualAmount\"]/12) + (row[\"annualHomeownersInsurance\"]/12)      # exludes maintenance, prop. management, and vacancy\n",
    "\tresults[\"Minimum Monthly Expenses\"].append(round(expenses, 2))\n",
    "\t\n",
    "\tcf = calc_cash_flow(row[\"rentZestimate\"], vac, maint, pmf, \n",
    "\t\trow[\"resoFacts.taxAnnualAmount\"], row[\"annualHomeownersInsurance\"], pmt)\n",
    "\tresults[\"Monthly Cash Flow\"].append(round(cf, 2))\n",
    "\n",
    "\tmax_purchase = calc_max_principal(row[\"rentZestimate\"], vac, maint, pmf, \n",
    "\t\trow[\"resoFacts.taxAnnualAmount\"], row[\"annualHomeownersInsurance\"], irate, term)\n",
    "\tresults[\"Max Purhcase Price\"].append(round(max_purchase, 2))\n",
    "\n",
    "\tcap_rate = ((cf+pmt)*12)/row[\"price\"] ## cap rate = what if we bought the property with cash?\n",
    "\tresults[\"Annual Yield (CoC ROI)\"].append(round(((12*cf)/upfront_cash)*100, 2))\n",
    "\tresults[\"Cap Rate\"].append(round(cap_rate*100, 2))"
   ]
  },
  {
   "cell_type": "code",
   "execution_count": 111,
   "metadata": {},
   "outputs": [
    {
     "data": {
      "text/html": [
       "<div>\n",
       "<style scoped>\n",
       "    .dataframe tbody tr th:only-of-type {\n",
       "        vertical-align: middle;\n",
       "    }\n",
       "\n",
       "    .dataframe tbody tr th {\n",
       "        vertical-align: top;\n",
       "    }\n",
       "\n",
       "    .dataframe thead th {\n",
       "        text-align: right;\n",
       "    }\n",
       "</style>\n",
       "<table border=\"1\" class=\"dataframe\">\n",
       "  <thead>\n",
       "    <tr style=\"text-align: right;\">\n",
       "      <th></th>\n",
       "      <th>zpid</th>\n",
       "      <th>Mortgage Payment</th>\n",
       "      <th>Total Payments</th>\n",
       "      <th>Total Interest</th>\n",
       "      <th>Cash Required</th>\n",
       "      <th>Minimum Monthly Expenses</th>\n",
       "      <th>Monthly Cash Flow</th>\n",
       "      <th>Max Purhcase Price</th>\n",
       "      <th>Annual Yield (CoC ROI)</th>\n",
       "      <th>Cap Rate</th>\n",
       "    </tr>\n",
       "  </thead>\n",
       "  <tbody>\n",
       "    <tr>\n",
       "      <th>0</th>\n",
       "      <td>2067752269</td>\n",
       "      <td>13338.61</td>\n",
       "      <td>400158.32</td>\n",
       "      <td>80238.32</td>\n",
       "      <td>83979.0</td>\n",
       "      <td>13522.61</td>\n",
       "      <td>NaN</td>\n",
       "      <td>NaN</td>\n",
       "      <td>NaN</td>\n",
       "      <td>NaN</td>\n",
       "    </tr>\n",
       "    <tr>\n",
       "      <th>1</th>\n",
       "      <td>69670062</td>\n",
       "      <td>6334.09</td>\n",
       "      <td>190022.67</td>\n",
       "      <td>38102.67</td>\n",
       "      <td>39879.0</td>\n",
       "      <td>6772.67</td>\n",
       "      <td>-5653.37</td>\n",
       "      <td>21762.82</td>\n",
       "      <td>-170.12</td>\n",
       "      <td>4.30</td>\n",
       "    </tr>\n",
       "    <tr>\n",
       "      <th>2</th>\n",
       "      <td>26824177</td>\n",
       "      <td>12007.42</td>\n",
       "      <td>360222.54</td>\n",
       "      <td>72230.54</td>\n",
       "      <td>75597.9</td>\n",
       "      <td>12232.33</td>\n",
       "      <td>-11186.53</td>\n",
       "      <td>27015.67</td>\n",
       "      <td>-177.57</td>\n",
       "      <td>2.74</td>\n",
       "    </tr>\n",
       "    <tr>\n",
       "      <th>3</th>\n",
       "      <td>26799759</td>\n",
       "      <td>9339.36</td>\n",
       "      <td>280180.87</td>\n",
       "      <td>56180.87</td>\n",
       "      <td>58800.0</td>\n",
       "      <td>9807.36</td>\n",
       "      <td>-8583.06</td>\n",
       "      <td>24595.36</td>\n",
       "      <td>-175.16</td>\n",
       "      <td>3.24</td>\n",
       "    </tr>\n",
       "    <tr>\n",
       "      <th>4</th>\n",
       "      <td>26776999</td>\n",
       "      <td>7504.84</td>\n",
       "      <td>225145.34</td>\n",
       "      <td>45145.34</td>\n",
       "      <td>47250.0</td>\n",
       "      <td>7829.84</td>\n",
       "      <td>-6499.84</td>\n",
       "      <td>33915.59</td>\n",
       "      <td>-165.08</td>\n",
       "      <td>5.36</td>\n",
       "    </tr>\n",
       "  </tbody>\n",
       "</table>\n",
       "</div>"
      ],
      "text/plain": [
       "         zpid  Mortgage Payment  Total Payments  Total Interest  \\\n",
       "0  2067752269          13338.61       400158.32        80238.32   \n",
       "1    69670062           6334.09       190022.67        38102.67   \n",
       "2    26824177          12007.42       360222.54        72230.54   \n",
       "3    26799759           9339.36       280180.87        56180.87   \n",
       "4    26776999           7504.84       225145.34        45145.34   \n",
       "\n",
       "   Cash Required  Minimum Monthly Expenses  Monthly Cash Flow  \\\n",
       "0        83979.0                  13522.61                NaN   \n",
       "1        39879.0                   6772.67           -5653.37   \n",
       "2        75597.9                  12232.33          -11186.53   \n",
       "3        58800.0                   9807.36           -8583.06   \n",
       "4        47250.0                   7829.84           -6499.84   \n",
       "\n",
       "   Max Purhcase Price  Annual Yield (CoC ROI)  Cap Rate  \n",
       "0                 NaN                     NaN       NaN  \n",
       "1            21762.82                 -170.12      4.30  \n",
       "2            27015.67                 -177.57      2.74  \n",
       "3            24595.36                 -175.16      3.24  \n",
       "4            33915.59                 -165.08      5.36  "
      ]
     },
     "execution_count": 111,
     "metadata": {},
     "output_type": "execute_result"
    }
   ],
   "source": [
    "output = pd.DataFrame.from_dict(results)\n",
    "output.head()"
   ]
  },
  {
   "cell_type": "code",
   "execution_count": 105,
   "metadata": {},
   "outputs": [],
   "source": [
    "# for i, row in prop_details.iterrows():\n",
    "# \tzpid = row['zpid']\n",
    "# \tprice = row['price']\n",
    "# \trent_zestimate = row['rentZestimate']\n",
    "# \ttax_annual_amount = row['resoFacts.taxAnnualAmount']\n",
    "# \tannual_homeowners_insurance = row['annualHomeownersInsurance']\n",
    "\n",
    "# \tresults['zpid'].append(zpid)\n",
    "# \tresults['Max Purhcase Price'].append(price)\n",
    "\n",
    "# \t# Mortgage Payment\n",
    "# \tpmt = loan_amt * (irate / (1 - (1 + irate)**(-term)))\n",
    "# \tresults['Mortgage Payment'].append(pmt)\n",
    "\n",
    "# \t# Total Payments\n",
    "# \ttotal_payments = pmt + closing_costs\n",
    "# \tresults['Total Payments'].append(total_payments)\n",
    "\n",
    "# \t# Total Interest\n",
    "# \ttotal_interest = loan_amt * irate * term\n",
    "# \tresults['Total Interest'].append(total_interest)\n",
    "\n",
    "# \t# Cash Required\n",
    "# \tcash_required = loan_amt + total_interest\n",
    "# \tresults['Cash Required'].append(cash_required)\n",
    "\n",
    "# \t# Minimum Monthly Expenses\n",
    "# \tmin_monthly_expenses = rent + pmf + maint + txs + ins\n",
    "# \tresults['Minimum Monthly Expenses'].append(min_monthly_expenses)\n",
    "\n",
    "# \t# Monthly Cash Flow\n",
    "# \tmonthly_cash_flow = (rent - min_monthly_expenses) / (1 - (vac / 12))\n",
    "# \tresults['Monthly Cash Flow'].append(monthly_cash_flow)\n",
    "\n",
    "# \t# Annual Yield (CoC ROI)\n",
    "# \tannual_yield = (monthly_cash_flow / price) * 12\n",
    "# \tresults['Annual Yield (CoC ROI)'].append(annual_yield)\n",
    "\n",
    "# \t# Cap Rate\n",
    "# \tcap_rate = (price - cash_required) / price\n",
    "# \tresults['Cap Rate'].append(cap_rate)"
   ]
  },
  {
   "cell_type": "code",
   "execution_count": 106,
   "metadata": {},
   "outputs": [
    {
     "data": {
      "text/html": [
       "<div>\n",
       "<style scoped>\n",
       "    .dataframe tbody tr th:only-of-type {\n",
       "        vertical-align: middle;\n",
       "    }\n",
       "\n",
       "    .dataframe tbody tr th {\n",
       "        vertical-align: top;\n",
       "    }\n",
       "\n",
       "    .dataframe thead th {\n",
       "        text-align: right;\n",
       "    }\n",
       "</style>\n",
       "<table border=\"1\" class=\"dataframe\">\n",
       "  <thead>\n",
       "    <tr style=\"text-align: right;\">\n",
       "      <th></th>\n",
       "      <th>zpid</th>\n",
       "      <th>Mortgage Payment</th>\n",
       "      <th>Total Payments</th>\n",
       "      <th>Total Interest</th>\n",
       "      <th>Cash Required</th>\n",
       "      <th>Minimum Monthly Expenses</th>\n",
       "      <th>Monthly Cash Flow</th>\n",
       "      <th>Max Purhcase Price</th>\n",
       "      <th>Annual Yield (CoC ROI)</th>\n",
       "      <th>Cap Rate</th>\n",
       "    </tr>\n",
       "  </thead>\n",
       "  <tbody>\n",
       "    <tr>\n",
       "      <th>0</th>\n",
       "      <td>2067752269</td>\n",
       "      <td>52041.148064</td>\n",
       "      <td>62041.148064</td>\n",
       "      <td>1200000.0</td>\n",
       "      <td>2000000.0</td>\n",
       "      <td>1000.4</td>\n",
       "      <td>-0.403361</td>\n",
       "      <td>399900</td>\n",
       "      <td>-0.000012</td>\n",
       "      <td>-4.001250</td>\n",
       "    </tr>\n",
       "    <tr>\n",
       "      <th>1</th>\n",
       "      <td>69670062</td>\n",
       "      <td>52041.148064</td>\n",
       "      <td>62041.148064</td>\n",
       "      <td>1200000.0</td>\n",
       "      <td>2000000.0</td>\n",
       "      <td>1000.4</td>\n",
       "      <td>-0.403361</td>\n",
       "      <td>189900</td>\n",
       "      <td>-0.000025</td>\n",
       "      <td>-9.531859</td>\n",
       "    </tr>\n",
       "    <tr>\n",
       "      <th>2</th>\n",
       "      <td>26824177</td>\n",
       "      <td>52041.148064</td>\n",
       "      <td>62041.148064</td>\n",
       "      <td>1200000.0</td>\n",
       "      <td>2000000.0</td>\n",
       "      <td>1000.4</td>\n",
       "      <td>-0.403361</td>\n",
       "      <td>359990</td>\n",
       "      <td>-0.000013</td>\n",
       "      <td>-4.555710</td>\n",
       "    </tr>\n",
       "    <tr>\n",
       "      <th>3</th>\n",
       "      <td>26799759</td>\n",
       "      <td>52041.148064</td>\n",
       "      <td>62041.148064</td>\n",
       "      <td>1200000.0</td>\n",
       "      <td>2000000.0</td>\n",
       "      <td>1000.4</td>\n",
       "      <td>-0.403361</td>\n",
       "      <td>280000</td>\n",
       "      <td>-0.000017</td>\n",
       "      <td>-6.142857</td>\n",
       "    </tr>\n",
       "    <tr>\n",
       "      <th>4</th>\n",
       "      <td>26776999</td>\n",
       "      <td>52041.148064</td>\n",
       "      <td>62041.148064</td>\n",
       "      <td>1200000.0</td>\n",
       "      <td>2000000.0</td>\n",
       "      <td>1000.4</td>\n",
       "      <td>-0.403361</td>\n",
       "      <td>225000</td>\n",
       "      <td>-0.000022</td>\n",
       "      <td>-7.888889</td>\n",
       "    </tr>\n",
       "  </tbody>\n",
       "</table>\n",
       "</div>"
      ],
      "text/plain": [
       "         zpid  Mortgage Payment  Total Payments  Total Interest  \\\n",
       "0  2067752269      52041.148064    62041.148064       1200000.0   \n",
       "1    69670062      52041.148064    62041.148064       1200000.0   \n",
       "2    26824177      52041.148064    62041.148064       1200000.0   \n",
       "3    26799759      52041.148064    62041.148064       1200000.0   \n",
       "4    26776999      52041.148064    62041.148064       1200000.0   \n",
       "\n",
       "   Cash Required  Minimum Monthly Expenses  Monthly Cash Flow  \\\n",
       "0      2000000.0                    1000.4          -0.403361   \n",
       "1      2000000.0                    1000.4          -0.403361   \n",
       "2      2000000.0                    1000.4          -0.403361   \n",
       "3      2000000.0                    1000.4          -0.403361   \n",
       "4      2000000.0                    1000.4          -0.403361   \n",
       "\n",
       "   Max Purhcase Price  Annual Yield (CoC ROI)  Cap Rate  \n",
       "0              399900               -0.000012 -4.001250  \n",
       "1              189900               -0.000025 -9.531859  \n",
       "2              359990               -0.000013 -4.555710  \n",
       "3              280000               -0.000017 -6.142857  \n",
       "4              225000               -0.000022 -7.888889  "
      ]
     },
     "execution_count": 106,
     "metadata": {},
     "output_type": "execute_result"
    }
   ],
   "source": [
    "output = pd.DataFrame.from_dict(results)\n",
    "output.head()"
   ]
  },
  {
   "cell_type": "code",
   "execution_count": 112,
   "metadata": {},
   "outputs": [],
   "source": [
    "output.to_csv('output.csv')"
   ]
  },
  {
   "cell_type": "code",
   "execution_count": 1,
   "metadata": {},
   "outputs": [],
   "source": [
    "import pandas as pd"
   ]
  },
  {
   "cell_type": "code",
   "execution_count": 2,
   "metadata": {},
   "outputs": [],
   "source": [
    "core_assumptions = {\n",
    "\t\"Monthly Gross Rent ($/mo)\": 1500,\n",
    "\t\"Purchase Price ($)\": 1000000,\n",
    "\t\"Purchase Date\": \"2019-01-01\",\n",
    "\t\"Closing Costs ($)\": 2000,\n",
    "\t\"Extra Cash Reserves ($)\": 2500,\n",
    "}"
   ]
  },
  {
   "cell_type": "code",
   "execution_count": 4,
   "metadata": {},
   "outputs": [
    {
     "data": {
      "text/html": [
       "<div>\n",
       "<style scoped>\n",
       "    .dataframe tbody tr th:only-of-type {\n",
       "        vertical-align: middle;\n",
       "    }\n",
       "\n",
       "    .dataframe tbody tr th {\n",
       "        vertical-align: top;\n",
       "    }\n",
       "\n",
       "    .dataframe thead th {\n",
       "        text-align: right;\n",
       "    }\n",
       "</style>\n",
       "<table border=\"1\" class=\"dataframe\">\n",
       "  <thead>\n",
       "    <tr style=\"text-align: right;\">\n",
       "      <th></th>\n",
       "      <th>0</th>\n",
       "    </tr>\n",
       "  </thead>\n",
       "  <tbody>\n",
       "    <tr>\n",
       "      <th>Monthly Gross Rent ($/mo)</th>\n",
       "      <td>1500</td>\n",
       "    </tr>\n",
       "    <tr>\n",
       "      <th>Purchase Price ($)</th>\n",
       "      <td>1000000</td>\n",
       "    </tr>\n",
       "    <tr>\n",
       "      <th>Purchase Date</th>\n",
       "      <td>2019-01-01</td>\n",
       "    </tr>\n",
       "    <tr>\n",
       "      <th>Closing Costs ($)</th>\n",
       "      <td>2000</td>\n",
       "    </tr>\n",
       "    <tr>\n",
       "      <th>Extra Cash Reserves ($)</th>\n",
       "      <td>2500</td>\n",
       "    </tr>\n",
       "  </tbody>\n",
       "</table>\n",
       "</div>"
      ],
      "text/plain": [
       "                                    0\n",
       "Monthly Gross Rent ($/mo)        1500\n",
       "Purchase Price ($)            1000000\n",
       "Purchase Date              2019-01-01\n",
       "Closing Costs ($)                2000\n",
       "Extra Cash Reserves ($)          2500"
      ]
     },
     "execution_count": 4,
     "metadata": {},
     "output_type": "execute_result"
    }
   ],
   "source": [
    "pd.DataFrame.from_dict(core_assumptions, orient='index')"
   ]
  },
  {
   "cell_type": "markdown",
   "metadata": {},
   "source": [
    "# Making assumptions file"
   ]
  },
  {
   "cell_type": "markdown",
   "metadata": {},
   "source": [
    "## Getting rent data"
   ]
  },
  {
   "cell_type": "code",
   "execution_count": 126,
   "metadata": {},
   "outputs": [],
   "source": [
    "import sys\n",
    "sys.path.insert(0, '.')\n",
    "sys.path.insert(0, '..')\n",
    "\n",
    "import src.api as api\n",
    "import pandas as pd\n",
    "import numpy as np"
   ]
  },
  {
   "cell_type": "code",
   "execution_count": 128,
   "metadata": {},
   "outputs": [
    {
     "data": {
      "text/plain": [
       "{'extra_cash_reserves': 2500,\n",
       " 'eqt_pct': 0.5,\n",
       " 'amort_period': 30,\n",
       " 'int_rate_on_debt': 0.05}"
      ]
     },
     "execution_count": 128,
     "metadata": {},
     "output_type": "execute_result"
    }
   ],
   "source": [
    "with open('../data/user_finance.json') as f:\n",
    "\tfinances = json.load(f)\n",
    "finances"
   ]
  },
  {
   "cell_type": "code",
   "execution_count": 46,
   "metadata": {},
   "outputs": [
    {
     "data": {
      "text/html": [
       "<div><div id=eea53a39-eede-4fe0-90f0-d38db74f463c style=\"display:none; background-color:#9D6CFF; color:white; width:200px; height:30px; padding-left:5px; border-radius:4px; flex-direction:row; justify-content:space-around; align-items:center;\" onmouseover=\"this.style.backgroundColor='#BA9BF8'\" onmouseout=\"this.style.backgroundColor='#9D6CFF'\" onclick=\"window.commands?.execute('create-mitosheet-from-dataframe-output');\">See Full Dataframe in Mito</div> <script> if (window.commands.hasCommand('create-mitosheet-from-dataframe-output')) document.getElementById('eea53a39-eede-4fe0-90f0-d38db74f463c').style.display = 'flex' </script> <table border=\"1\" class=\"dataframe\">\n",
       "  <thead>\n",
       "    <tr style=\"text-align: right;\">\n",
       "      <th></th>\n",
       "      <th>dateSold</th>\n",
       "      <th>propertyType</th>\n",
       "      <th>lotAreaValue</th>\n",
       "      <th>address</th>\n",
       "      <th>daysOnZillow</th>\n",
       "      <th>price</th>\n",
       "      <th>listingDateTime</th>\n",
       "      <th>longitude</th>\n",
       "      <th>latitude</th>\n",
       "      <th>contingentListingType</th>\n",
       "      <th>...</th>\n",
       "      <th>livingArea</th>\n",
       "      <th>bathrooms</th>\n",
       "      <th>lotAreaUnit</th>\n",
       "      <th>country</th>\n",
       "      <th>currency</th>\n",
       "      <th>bedrooms</th>\n",
       "      <th>hasImage</th>\n",
       "      <th>listingSubType.is_FSBA</th>\n",
       "      <th>listingSubType.is_newHome</th>\n",
       "      <th>listingSubType.is_openHouse</th>\n",
       "    </tr>\n",
       "  </thead>\n",
       "  <tbody>\n",
       "    <tr>\n",
       "      <th>0</th>\n",
       "      <td>NaN</td>\n",
       "      <td>SINGLE_FAMILY</td>\n",
       "      <td>2787.840</td>\n",
       "      <td>3807 Vilbig Rd, Dallas, TX 75212</td>\n",
       "      <td>-1</td>\n",
       "      <td>499000</td>\n",
       "      <td>NaN</td>\n",
       "      <td>-96.848045</td>\n",
       "      <td>32.788970</td>\n",
       "      <td>NaN</td>\n",
       "      <td>...</td>\n",
       "      <td>1855</td>\n",
       "      <td>3</td>\n",
       "      <td>sqft</td>\n",
       "      <td>USA</td>\n",
       "      <td>USD</td>\n",
       "      <td>3</td>\n",
       "      <td>True</td>\n",
       "      <td>True</td>\n",
       "      <td>NaN</td>\n",
       "      <td>NaN</td>\n",
       "    </tr>\n",
       "    <tr>\n",
       "      <th>1</th>\n",
       "      <td>NaN</td>\n",
       "      <td>SINGLE_FAMILY</td>\n",
       "      <td>3267.000</td>\n",
       "      <td>3505 Ebenezer Mews, Dallas, TX 75236</td>\n",
       "      <td>-1</td>\n",
       "      <td>435000</td>\n",
       "      <td>NaN</td>\n",
       "      <td>-96.947660</td>\n",
       "      <td>32.700424</td>\n",
       "      <td>NaN</td>\n",
       "      <td>...</td>\n",
       "      <td>1913</td>\n",
       "      <td>3</td>\n",
       "      <td>sqft</td>\n",
       "      <td>USA</td>\n",
       "      <td>USD</td>\n",
       "      <td>3</td>\n",
       "      <td>True</td>\n",
       "      <td>True</td>\n",
       "      <td>NaN</td>\n",
       "      <td>NaN</td>\n",
       "    </tr>\n",
       "    <tr>\n",
       "      <th>2</th>\n",
       "      <td>NaN</td>\n",
       "      <td>SINGLE_FAMILY</td>\n",
       "      <td>6751.800</td>\n",
       "      <td>210 W Jerden Ln, Dallas, TX 75208</td>\n",
       "      <td>-1</td>\n",
       "      <td>400000</td>\n",
       "      <td>NaN</td>\n",
       "      <td>-96.825096</td>\n",
       "      <td>32.735153</td>\n",
       "      <td>NaN</td>\n",
       "      <td>...</td>\n",
       "      <td>1820</td>\n",
       "      <td>3</td>\n",
       "      <td>sqft</td>\n",
       "      <td>USA</td>\n",
       "      <td>USD</td>\n",
       "      <td>3</td>\n",
       "      <td>True</td>\n",
       "      <td>NaN</td>\n",
       "      <td>True</td>\n",
       "      <td>NaN</td>\n",
       "    </tr>\n",
       "    <tr>\n",
       "      <th>3</th>\n",
       "      <td>NaN</td>\n",
       "      <td>SINGLE_FAMILY</td>\n",
       "      <td>5654.088</td>\n",
       "      <td>1471 Barrel Dr, Dallas, TX 75253</td>\n",
       "      <td>-1</td>\n",
       "      <td>357000</td>\n",
       "      <td>NaN</td>\n",
       "      <td>-96.586716</td>\n",
       "      <td>32.671883</td>\n",
       "      <td>NaN</td>\n",
       "      <td>...</td>\n",
       "      <td>1604</td>\n",
       "      <td>2</td>\n",
       "      <td>sqft</td>\n",
       "      <td>USA</td>\n",
       "      <td>USD</td>\n",
       "      <td>3</td>\n",
       "      <td>True</td>\n",
       "      <td>True</td>\n",
       "      <td>NaN</td>\n",
       "      <td>NaN</td>\n",
       "    </tr>\n",
       "    <tr>\n",
       "      <th>4</th>\n",
       "      <td>NaN</td>\n",
       "      <td>SINGLE_FAMILY</td>\n",
       "      <td>5488.560</td>\n",
       "      <td>8233 Clarkview Dr, Dallas, TX 75236</td>\n",
       "      <td>-1</td>\n",
       "      <td>352000</td>\n",
       "      <td>NaN</td>\n",
       "      <td>-96.940310</td>\n",
       "      <td>32.666240</td>\n",
       "      <td>NaN</td>\n",
       "      <td>...</td>\n",
       "      <td>1545</td>\n",
       "      <td>2</td>\n",
       "      <td>sqft</td>\n",
       "      <td>USA</td>\n",
       "      <td>USD</td>\n",
       "      <td>3</td>\n",
       "      <td>True</td>\n",
       "      <td>True</td>\n",
       "      <td>NaN</td>\n",
       "      <td>True</td>\n",
       "    </tr>\n",
       "  </tbody>\n",
       "</table></div>"
      ],
      "text/plain": [
       "   dateSold   propertyType  lotAreaValue  \\\n",
       "0       NaN  SINGLE_FAMILY      2787.840   \n",
       "1       NaN  SINGLE_FAMILY      3267.000   \n",
       "2       NaN  SINGLE_FAMILY      6751.800   \n",
       "3       NaN  SINGLE_FAMILY      5654.088   \n",
       "4       NaN  SINGLE_FAMILY      5488.560   \n",
       "\n",
       "                                address  daysOnZillow   price  \\\n",
       "0      3807 Vilbig Rd, Dallas, TX 75212            -1  499000   \n",
       "1  3505 Ebenezer Mews, Dallas, TX 75236            -1  435000   \n",
       "2     210 W Jerden Ln, Dallas, TX 75208            -1  400000   \n",
       "3      1471 Barrel Dr, Dallas, TX 75253            -1  357000   \n",
       "4   8233 Clarkview Dr, Dallas, TX 75236            -1  352000   \n",
       "\n",
       "   listingDateTime  longitude   latitude  contingentListingType  ...  \\\n",
       "0              NaN -96.848045  32.788970                    NaN  ...   \n",
       "1              NaN -96.947660  32.700424                    NaN  ...   \n",
       "2              NaN -96.825096  32.735153                    NaN  ...   \n",
       "3              NaN -96.586716  32.671883                    NaN  ...   \n",
       "4              NaN -96.940310  32.666240                    NaN  ...   \n",
       "\n",
       "  livingArea  bathrooms lotAreaUnit  country  currency bedrooms hasImage  \\\n",
       "0       1855          3        sqft      USA       USD        3     True   \n",
       "1       1913          3        sqft      USA       USD        3     True   \n",
       "2       1820          3        sqft      USA       USD        3     True   \n",
       "3       1604          2        sqft      USA       USD        3     True   \n",
       "4       1545          2        sqft      USA       USD        3     True   \n",
       "\n",
       "  listingSubType.is_FSBA  listingSubType.is_newHome  \\\n",
       "0                   True                        NaN   \n",
       "1                   True                        NaN   \n",
       "2                    NaN                       True   \n",
       "3                   True                        NaN   \n",
       "4                   True                        NaN   \n",
       "\n",
       "   listingSubType.is_openHouse  \n",
       "0                          NaN  \n",
       "1                          NaN  \n",
       "2                          NaN  \n",
       "3                          NaN  \n",
       "4                         True  \n",
       "\n",
       "[5 rows x 23 columns]"
      ]
     },
     "execution_count": 46,
     "metadata": {},
     "output_type": "execute_result"
    }
   ],
   "source": [
    "search = pd.read_csv('../data/search_data.csv')\n",
    "search.head()"
   ]
  },
  {
   "cell_type": "code",
   "execution_count": 129,
   "metadata": {},
   "outputs": [
    {
     "data": {
      "text/plain": [
       "Index(['dateSold', 'propertyType', 'lotAreaValue', 'address', 'daysOnZillow',\n",
       "       'price', 'listingDateTime', 'longitude', 'latitude',\n",
       "       'contingentListingType', 'listingStatus', 'zpid', 'imgSrc',\n",
       "       'livingArea', 'bathrooms', 'lotAreaUnit', 'country', 'currency',\n",
       "       'bedrooms', 'hasImage', 'listingSubType.is_FSBA',\n",
       "       'listingSubType.is_newHome', 'listingSubType.is_openHouse'],\n",
       "      dtype='object')"
      ]
     },
     "execution_count": 129,
     "metadata": {},
     "output_type": "execute_result"
    }
   ],
   "source": [
    "search.columns"
   ]
  },
  {
   "cell_type": "code",
   "execution_count": 130,
   "metadata": {},
   "outputs": [
    {
     "data": {
      "text/plain": [
       "499000"
      ]
     },
     "execution_count": 130,
     "metadata": {},
     "output_type": "execute_result"
    }
   ],
   "source": [
    "search[\"price\"].values[0]"
   ]
  },
  {
   "cell_type": "code",
   "execution_count": 55,
   "metadata": {},
   "outputs": [],
   "source": [
    "property_type = search.loc[search[\"zpid\"] == search[\"zpid\"].values[0], \"propertyType\"].values[0]\n",
    "address = search.loc[search[\"zpid\"] == search[\"zpid\"].values[0], \"address\"].values[0]\n",
    "beds = search.loc[search[\"zpid\"] == search[\"zpid\"].values[0], \"bedrooms\"].values[0]\n",
    "baths = search.loc[search[\"zpid\"] == search[\"zpid\"].values[0], \"bathrooms\"].values[0]"
   ]
  },
  {
   "cell_type": "code",
   "execution_count": 56,
   "metadata": {},
   "outputs": [
    {
     "name": "stdout",
     "output_type": "stream",
     "text": [
      "Property Type: SINGLE_FAMILY, Address: 3807 Vilbig Rd, Dallas, TX 75212, Beds: 3, Baths: 3\n"
     ]
    }
   ],
   "source": [
    "print(f\"Property Type: {property_type}, Address: {address}, Beds: {beds}, Baths: {baths}\")"
   ]
  },
  {
   "cell_type": "code",
   "execution_count": 57,
   "metadata": {},
   "outputs": [
    {
     "data": {
      "text/plain": [
       "{'SINGLE_FAMILY': 'SingleFamily',\n",
       " 'CONDO': 'Condo',\n",
       " 'TOWNHOUSE': 'Townhouse',\n",
       " 'MULTI_FAMILY': 'MultiFamily'}"
      ]
     },
     "execution_count": 57,
     "metadata": {},
     "output_type": "execute_result"
    }
   ],
   "source": [
    "property_type0 = [\"SINGLE_FAMILY\", \"CONDO\", \"TOWNHOUSE\", \"MULTI_FAMILY\"]\n",
    "property_type1 = [\"SingleFamily\", \"Condo\", \"Townhouse\", \"MultiFamily\"]\n",
    "property_type_mapping = dict(zip(property_type0, property_type1))\n",
    "property_type_mapping"
   ]
  },
  {
   "cell_type": "code",
   "execution_count": 42,
   "metadata": {},
   "outputs": [],
   "source": [
    "from src.utils import InvestmentAssumptions"
   ]
  },
  {
   "cell_type": "code",
   "execution_count": 48,
   "metadata": {},
   "outputs": [],
   "source": [
    "import src.api as api\n",
    "\n",
    "prop_det = api.property_detail(96533411).json()"
   ]
  },
  {
   "cell_type": "code",
   "execution_count": null,
   "metadata": {},
   "outputs": [],
   "source": [
    "prop_det"
   ]
  },
  {
   "cell_type": "code",
   "execution_count": 49,
   "metadata": {},
   "outputs": [
    {
     "data": {
      "text/plain": [
       "1802"
      ]
     },
     "execution_count": 49,
     "metadata": {},
     "output_type": "execute_result"
    }
   ],
   "source": [
    "prop_det['annualHomeownersInsurance']"
   ]
  },
  {
   "cell_type": "code",
   "execution_count": 45,
   "metadata": {},
   "outputs": [
    {
     "data": {
      "text/plain": [
       "1802"
      ]
     },
     "execution_count": 45,
     "metadata": {},
     "output_type": "execute_result"
    }
   ],
   "source": [
    "import sys\n",
    "sys.path.insert(0, '.')\n",
    "sys.path.insert(0, '..')\n",
    "\n",
    "ia = InvestmentAssumptions()\n",
    "\n",
    "ia.get_insurance(96533411)"
   ]
  },
  {
   "cell_type": "code",
   "execution_count": 59,
   "metadata": {},
   "outputs": [],
   "source": [
    "rent_res = api.rent_estimate(property_type_mapping[property_type], address, beds, baths)"
   ]
  },
  {
   "cell_type": "code",
   "execution_count": null,
   "metadata": {},
   "outputs": [],
   "source": [
    "rent_res.json()"
   ]
  },
  {
   "cell_type": "markdown",
   "metadata": {},
   "source": [
    "## Property details"
   ]
  },
  {
   "cell_type": "code",
   "execution_count": 74,
   "metadata": {},
   "outputs": [],
   "source": [
    "prop_det_res = api.property_detail(search[\"zpid\"].values[0]).json()"
   ]
  },
  {
   "cell_type": "code",
   "execution_count": 132,
   "metadata": {},
   "outputs": [
    {
     "data": {
      "text/plain": [
       "2.19"
      ]
     },
     "execution_count": 132,
     "metadata": {},
     "output_type": "execute_result"
    }
   ],
   "source": [
    "prop_det_res[\"propertyTaxRate\"]"
   ]
  },
  {
   "cell_type": "code",
   "execution_count": 80,
   "metadata": {},
   "outputs": [
    {
     "data": {
      "text/plain": [
       "2096"
      ]
     },
     "execution_count": 80,
     "metadata": {},
     "output_type": "execute_result"
    }
   ],
   "source": [
    "prop_det_res['annualHomeownersInsurance']"
   ]
  },
  {
   "cell_type": "code",
   "execution_count": 122,
   "metadata": {},
   "outputs": [],
   "source": [
    "tax_paid = []\n",
    "prop_value = []\n",
    "tax_rate_hist = []\n",
    "tax_year = []\n",
    "for i in range(len(prop_det_res[\"taxHistory\"])):\n",
    "    if prop_det_res[\"taxHistory\"][i][\"taxPaid\"] is not None:\n",
    "        tax_paid.append(prop_det_res[\"taxHistory\"][i][\"taxPaid\"])\n",
    "        prop_value.append(prop_det_res[\"taxHistory\"][i][\"value\"])\n",
    "        tax_rate_hist.append(np.round(prop_det_res[\"taxHistory\"][i][\"taxPaid\"]/prop_det_res[\"taxHistory\"][i][\"value\"]*100, 2))\n",
    "        tax_year.append(datetime.fromtimestamp(prop_det_res[\"taxHistory\"][i][\"time\"] / 1e3).strftime('%Y-%m-%d'))"
   ]
  },
  {
   "cell_type": "code",
   "execution_count": 123,
   "metadata": {},
   "outputs": [
    {
     "data": {
      "application/vnd.plotly.v1+json": {
       "config": {
        "plotlyServerURL": "https://plot.ly"
       },
       "data": [
        {
         "hovertemplate": "Year=%{x}<br>Tax Rate=%{y}<br>text=%{text}<extra></extra>",
         "legendgroup": "",
         "line": {
          "color": "#636efa",
          "dash": "solid"
         },
         "marker": {
          "symbol": "circle"
         },
         "mode": "markers+lines+text",
         "name": "",
         "orientation": "v",
         "showlegend": false,
         "text": [
          2.74,
          2.74,
          2.72,
          2.72,
          2.85,
          2.73,
          2.71,
          2.64
         ],
         "textposition": "top center",
         "type": "scatter",
         "x": [
          "2014-04-28",
          "2015-04-28",
          "2016-04-28",
          "2017-04-28",
          "2018-04-28",
          "2019-04-28",
          "2020-04-28",
          "2021-04-28"
         ],
         "xaxis": "x",
         "y": [
          2.74,
          2.74,
          2.72,
          2.72,
          2.85,
          2.73,
          2.71,
          2.64
         ],
         "yaxis": "y"
        }
       ],
       "layout": {
        "legend": {
         "tracegroupgap": 0
        },
        "margin": {
         "t": 60
        },
        "template": {
         "data": {
          "bar": [
           {
            "error_x": {
             "color": "#2a3f5f"
            },
            "error_y": {
             "color": "#2a3f5f"
            },
            "marker": {
             "line": {
              "color": "#E5ECF6",
              "width": 0.5
             },
             "pattern": {
              "fillmode": "overlay",
              "size": 10,
              "solidity": 0.2
             }
            },
            "type": "bar"
           }
          ],
          "barpolar": [
           {
            "marker": {
             "line": {
              "color": "#E5ECF6",
              "width": 0.5
             },
             "pattern": {
              "fillmode": "overlay",
              "size": 10,
              "solidity": 0.2
             }
            },
            "type": "barpolar"
           }
          ],
          "carpet": [
           {
            "aaxis": {
             "endlinecolor": "#2a3f5f",
             "gridcolor": "white",
             "linecolor": "white",
             "minorgridcolor": "white",
             "startlinecolor": "#2a3f5f"
            },
            "baxis": {
             "endlinecolor": "#2a3f5f",
             "gridcolor": "white",
             "linecolor": "white",
             "minorgridcolor": "white",
             "startlinecolor": "#2a3f5f"
            },
            "type": "carpet"
           }
          ],
          "choropleth": [
           {
            "colorbar": {
             "outlinewidth": 0,
             "ticks": ""
            },
            "type": "choropleth"
           }
          ],
          "contour": [
           {
            "colorbar": {
             "outlinewidth": 0,
             "ticks": ""
            },
            "colorscale": [
             [
              0,
              "#0d0887"
             ],
             [
              0.1111111111111111,
              "#46039f"
             ],
             [
              0.2222222222222222,
              "#7201a8"
             ],
             [
              0.3333333333333333,
              "#9c179e"
             ],
             [
              0.4444444444444444,
              "#bd3786"
             ],
             [
              0.5555555555555556,
              "#d8576b"
             ],
             [
              0.6666666666666666,
              "#ed7953"
             ],
             [
              0.7777777777777778,
              "#fb9f3a"
             ],
             [
              0.8888888888888888,
              "#fdca26"
             ],
             [
              1,
              "#f0f921"
             ]
            ],
            "type": "contour"
           }
          ],
          "contourcarpet": [
           {
            "colorbar": {
             "outlinewidth": 0,
             "ticks": ""
            },
            "type": "contourcarpet"
           }
          ],
          "heatmap": [
           {
            "colorbar": {
             "outlinewidth": 0,
             "ticks": ""
            },
            "colorscale": [
             [
              0,
              "#0d0887"
             ],
             [
              0.1111111111111111,
              "#46039f"
             ],
             [
              0.2222222222222222,
              "#7201a8"
             ],
             [
              0.3333333333333333,
              "#9c179e"
             ],
             [
              0.4444444444444444,
              "#bd3786"
             ],
             [
              0.5555555555555556,
              "#d8576b"
             ],
             [
              0.6666666666666666,
              "#ed7953"
             ],
             [
              0.7777777777777778,
              "#fb9f3a"
             ],
             [
              0.8888888888888888,
              "#fdca26"
             ],
             [
              1,
              "#f0f921"
             ]
            ],
            "type": "heatmap"
           }
          ],
          "heatmapgl": [
           {
            "colorbar": {
             "outlinewidth": 0,
             "ticks": ""
            },
            "colorscale": [
             [
              0,
              "#0d0887"
             ],
             [
              0.1111111111111111,
              "#46039f"
             ],
             [
              0.2222222222222222,
              "#7201a8"
             ],
             [
              0.3333333333333333,
              "#9c179e"
             ],
             [
              0.4444444444444444,
              "#bd3786"
             ],
             [
              0.5555555555555556,
              "#d8576b"
             ],
             [
              0.6666666666666666,
              "#ed7953"
             ],
             [
              0.7777777777777778,
              "#fb9f3a"
             ],
             [
              0.8888888888888888,
              "#fdca26"
             ],
             [
              1,
              "#f0f921"
             ]
            ],
            "type": "heatmapgl"
           }
          ],
          "histogram": [
           {
            "marker": {
             "pattern": {
              "fillmode": "overlay",
              "size": 10,
              "solidity": 0.2
             }
            },
            "type": "histogram"
           }
          ],
          "histogram2d": [
           {
            "colorbar": {
             "outlinewidth": 0,
             "ticks": ""
            },
            "colorscale": [
             [
              0,
              "#0d0887"
             ],
             [
              0.1111111111111111,
              "#46039f"
             ],
             [
              0.2222222222222222,
              "#7201a8"
             ],
             [
              0.3333333333333333,
              "#9c179e"
             ],
             [
              0.4444444444444444,
              "#bd3786"
             ],
             [
              0.5555555555555556,
              "#d8576b"
             ],
             [
              0.6666666666666666,
              "#ed7953"
             ],
             [
              0.7777777777777778,
              "#fb9f3a"
             ],
             [
              0.8888888888888888,
              "#fdca26"
             ],
             [
              1,
              "#f0f921"
             ]
            ],
            "type": "histogram2d"
           }
          ],
          "histogram2dcontour": [
           {
            "colorbar": {
             "outlinewidth": 0,
             "ticks": ""
            },
            "colorscale": [
             [
              0,
              "#0d0887"
             ],
             [
              0.1111111111111111,
              "#46039f"
             ],
             [
              0.2222222222222222,
              "#7201a8"
             ],
             [
              0.3333333333333333,
              "#9c179e"
             ],
             [
              0.4444444444444444,
              "#bd3786"
             ],
             [
              0.5555555555555556,
              "#d8576b"
             ],
             [
              0.6666666666666666,
              "#ed7953"
             ],
             [
              0.7777777777777778,
              "#fb9f3a"
             ],
             [
              0.8888888888888888,
              "#fdca26"
             ],
             [
              1,
              "#f0f921"
             ]
            ],
            "type": "histogram2dcontour"
           }
          ],
          "mesh3d": [
           {
            "colorbar": {
             "outlinewidth": 0,
             "ticks": ""
            },
            "type": "mesh3d"
           }
          ],
          "parcoords": [
           {
            "line": {
             "colorbar": {
              "outlinewidth": 0,
              "ticks": ""
             }
            },
            "type": "parcoords"
           }
          ],
          "pie": [
           {
            "automargin": true,
            "type": "pie"
           }
          ],
          "scatter": [
           {
            "marker": {
             "colorbar": {
              "outlinewidth": 0,
              "ticks": ""
             }
            },
            "type": "scatter"
           }
          ],
          "scatter3d": [
           {
            "line": {
             "colorbar": {
              "outlinewidth": 0,
              "ticks": ""
             }
            },
            "marker": {
             "colorbar": {
              "outlinewidth": 0,
              "ticks": ""
             }
            },
            "type": "scatter3d"
           }
          ],
          "scattercarpet": [
           {
            "marker": {
             "colorbar": {
              "outlinewidth": 0,
              "ticks": ""
             }
            },
            "type": "scattercarpet"
           }
          ],
          "scattergeo": [
           {
            "marker": {
             "colorbar": {
              "outlinewidth": 0,
              "ticks": ""
             }
            },
            "type": "scattergeo"
           }
          ],
          "scattergl": [
           {
            "marker": {
             "colorbar": {
              "outlinewidth": 0,
              "ticks": ""
             }
            },
            "type": "scattergl"
           }
          ],
          "scattermapbox": [
           {
            "marker": {
             "colorbar": {
              "outlinewidth": 0,
              "ticks": ""
             }
            },
            "type": "scattermapbox"
           }
          ],
          "scatterpolar": [
           {
            "marker": {
             "colorbar": {
              "outlinewidth": 0,
              "ticks": ""
             }
            },
            "type": "scatterpolar"
           }
          ],
          "scatterpolargl": [
           {
            "marker": {
             "colorbar": {
              "outlinewidth": 0,
              "ticks": ""
             }
            },
            "type": "scatterpolargl"
           }
          ],
          "scatterternary": [
           {
            "marker": {
             "colorbar": {
              "outlinewidth": 0,
              "ticks": ""
             }
            },
            "type": "scatterternary"
           }
          ],
          "surface": [
           {
            "colorbar": {
             "outlinewidth": 0,
             "ticks": ""
            },
            "colorscale": [
             [
              0,
              "#0d0887"
             ],
             [
              0.1111111111111111,
              "#46039f"
             ],
             [
              0.2222222222222222,
              "#7201a8"
             ],
             [
              0.3333333333333333,
              "#9c179e"
             ],
             [
              0.4444444444444444,
              "#bd3786"
             ],
             [
              0.5555555555555556,
              "#d8576b"
             ],
             [
              0.6666666666666666,
              "#ed7953"
             ],
             [
              0.7777777777777778,
              "#fb9f3a"
             ],
             [
              0.8888888888888888,
              "#fdca26"
             ],
             [
              1,
              "#f0f921"
             ]
            ],
            "type": "surface"
           }
          ],
          "table": [
           {
            "cells": {
             "fill": {
              "color": "#EBF0F8"
             },
             "line": {
              "color": "white"
             }
            },
            "header": {
             "fill": {
              "color": "#C8D4E3"
             },
             "line": {
              "color": "white"
             }
            },
            "type": "table"
           }
          ]
         },
         "layout": {
          "annotationdefaults": {
           "arrowcolor": "#2a3f5f",
           "arrowhead": 0,
           "arrowwidth": 1
          },
          "autotypenumbers": "strict",
          "coloraxis": {
           "colorbar": {
            "outlinewidth": 0,
            "ticks": ""
           }
          },
          "colorscale": {
           "diverging": [
            [
             0,
             "#8e0152"
            ],
            [
             0.1,
             "#c51b7d"
            ],
            [
             0.2,
             "#de77ae"
            ],
            [
             0.3,
             "#f1b6da"
            ],
            [
             0.4,
             "#fde0ef"
            ],
            [
             0.5,
             "#f7f7f7"
            ],
            [
             0.6,
             "#e6f5d0"
            ],
            [
             0.7,
             "#b8e186"
            ],
            [
             0.8,
             "#7fbc41"
            ],
            [
             0.9,
             "#4d9221"
            ],
            [
             1,
             "#276419"
            ]
           ],
           "sequential": [
            [
             0,
             "#0d0887"
            ],
            [
             0.1111111111111111,
             "#46039f"
            ],
            [
             0.2222222222222222,
             "#7201a8"
            ],
            [
             0.3333333333333333,
             "#9c179e"
            ],
            [
             0.4444444444444444,
             "#bd3786"
            ],
            [
             0.5555555555555556,
             "#d8576b"
            ],
            [
             0.6666666666666666,
             "#ed7953"
            ],
            [
             0.7777777777777778,
             "#fb9f3a"
            ],
            [
             0.8888888888888888,
             "#fdca26"
            ],
            [
             1,
             "#f0f921"
            ]
           ],
           "sequentialminus": [
            [
             0,
             "#0d0887"
            ],
            [
             0.1111111111111111,
             "#46039f"
            ],
            [
             0.2222222222222222,
             "#7201a8"
            ],
            [
             0.3333333333333333,
             "#9c179e"
            ],
            [
             0.4444444444444444,
             "#bd3786"
            ],
            [
             0.5555555555555556,
             "#d8576b"
            ],
            [
             0.6666666666666666,
             "#ed7953"
            ],
            [
             0.7777777777777778,
             "#fb9f3a"
            ],
            [
             0.8888888888888888,
             "#fdca26"
            ],
            [
             1,
             "#f0f921"
            ]
           ]
          },
          "colorway": [
           "#636efa",
           "#EF553B",
           "#00cc96",
           "#ab63fa",
           "#FFA15A",
           "#19d3f3",
           "#FF6692",
           "#B6E880",
           "#FF97FF",
           "#FECB52"
          ],
          "font": {
           "color": "#2a3f5f"
          },
          "geo": {
           "bgcolor": "white",
           "lakecolor": "white",
           "landcolor": "#E5ECF6",
           "showlakes": true,
           "showland": true,
           "subunitcolor": "white"
          },
          "hoverlabel": {
           "align": "left"
          },
          "hovermode": "closest",
          "mapbox": {
           "style": "light"
          },
          "paper_bgcolor": "white",
          "plot_bgcolor": "#E5ECF6",
          "polar": {
           "angularaxis": {
            "gridcolor": "white",
            "linecolor": "white",
            "ticks": ""
           },
           "bgcolor": "#E5ECF6",
           "radialaxis": {
            "gridcolor": "white",
            "linecolor": "white",
            "ticks": ""
           }
          },
          "scene": {
           "xaxis": {
            "backgroundcolor": "#E5ECF6",
            "gridcolor": "white",
            "gridwidth": 2,
            "linecolor": "white",
            "showbackground": true,
            "ticks": "",
            "zerolinecolor": "white"
           },
           "yaxis": {
            "backgroundcolor": "#E5ECF6",
            "gridcolor": "white",
            "gridwidth": 2,
            "linecolor": "white",
            "showbackground": true,
            "ticks": "",
            "zerolinecolor": "white"
           },
           "zaxis": {
            "backgroundcolor": "#E5ECF6",
            "gridcolor": "white",
            "gridwidth": 2,
            "linecolor": "white",
            "showbackground": true,
            "ticks": "",
            "zerolinecolor": "white"
           }
          },
          "shapedefaults": {
           "line": {
            "color": "#2a3f5f"
           }
          },
          "ternary": {
           "aaxis": {
            "gridcolor": "white",
            "linecolor": "white",
            "ticks": ""
           },
           "baxis": {
            "gridcolor": "white",
            "linecolor": "white",
            "ticks": ""
           },
           "bgcolor": "#E5ECF6",
           "caxis": {
            "gridcolor": "white",
            "linecolor": "white",
            "ticks": ""
           }
          },
          "title": {
           "x": 0.05
          },
          "xaxis": {
           "automargin": true,
           "gridcolor": "white",
           "linecolor": "white",
           "ticks": "",
           "title": {
            "standoff": 15
           },
           "zerolinecolor": "white",
           "zerolinewidth": 2
          },
          "yaxis": {
           "automargin": true,
           "gridcolor": "white",
           "linecolor": "white",
           "ticks": "",
           "title": {
            "standoff": 15
           },
           "zerolinecolor": "white",
           "zerolinewidth": 2
          }
         }
        },
        "title": {
         "text": "Tax Rate History",
         "x": 0.5
        },
        "xaxis": {
         "anchor": "y",
         "domain": [
          0,
          1
         ],
         "title": {
          "text": "Year"
         }
        },
        "yaxis": {
         "anchor": "x",
         "domain": [
          0,
          1
         ],
         "title": {
          "text": "Tax Rate"
         }
        }
       }
      }
     },
     "metadata": {},
     "output_type": "display_data"
    }
   ],
   "source": [
    "import plotly.express as px\n",
    "\n",
    "fig = px.line(x=tax_year[::-1], y=tax_rate_hist[::-1], labels={\"x\": \"Year\", \"y\": \"Tax Rate\"}, text=tax_rate_hist[::-1])\n",
    "fig.update_traces(textposition='top center')\n",
    "fig.update_layout(title_text='Tax Rate History', title_x=0.5)\n",
    "fig.show()"
   ]
  },
  {
   "cell_type": "code",
   "execution_count": 90,
   "metadata": {},
   "outputs": [
    {
     "data": {
      "text/plain": [
       "[154.14, 154.14, 152.82, 67.99, 71.14, 2465.16, 8922.11, 7816.89]"
      ]
     },
     "execution_count": 90,
     "metadata": {},
     "output_type": "execute_result"
    }
   ],
   "source": [
    "tax_paid"
   ]
  },
  {
   "cell_type": "code",
   "execution_count": 91,
   "metadata": {},
   "outputs": [
    {
     "data": {
      "text/plain": [
       "[7816.89, 8922.11, 2465.16, 71.14, 67.99, 152.82, 154.14, 154.14]"
      ]
     },
     "execution_count": 91,
     "metadata": {},
     "output_type": "execute_result"
    }
   ],
   "source": [
    "tax_paid[::-1]"
   ]
  },
  {
   "cell_type": "code",
   "execution_count": 101,
   "metadata": {},
   "outputs": [
    {
     "data": {
      "text/plain": [
       "'2021-04-28'"
      ]
     },
     "execution_count": 101,
     "metadata": {},
     "output_type": "execute_result"
    }
   ],
   "source": [
    "datetime.fromtimestamp(1619627825220 / 1e3).strftime('%Y-%m-%d')"
   ]
  },
  {
   "cell_type": "code",
   "execution_count": 78,
   "metadata": {},
   "outputs": [
    {
     "data": {
      "text/plain": [
       "[{'time': 1619627825220,\n",
       "  'valueIncreaseRate': -0.099002674,\n",
       "  'taxIncreaseRate': -0.12387431,\n",
       "  'taxPaid': 7816.89,\n",
       "  'value': 296320},\n",
       " {'time': 1588091825220,\n",
       "  'valueIncreaseRate': 2.6469283,\n",
       "  'taxIncreaseRate': 2.6192825,\n",
       "  'taxPaid': 8922.11,\n",
       "  'value': 328880},\n",
       " {'time': 1556469425220,\n",
       "  'valueIncreaseRate': 35.072,\n",
       "  'taxIncreaseRate': 33.652237,\n",
       "  'taxPaid': 2465.16,\n",
       "  'value': 90180},\n",
       " {'time': 1524933425220,\n",
       "  'valueIncreaseRate': 0,\n",
       "  'taxIncreaseRate': 0.046330366,\n",
       "  'taxPaid': 71.14,\n",
       "  'value': 2500},\n",
       " {'time': 1493397425220,\n",
       "  'valueIncreaseRate': -0.55516016,\n",
       "  'taxIncreaseRate': -0.5550975,\n",
       "  'taxPaid': 67.99,\n",
       "  'value': 2500},\n",
       " {'time': 1461861425220,\n",
       "  'valueIncreaseRate': 0,\n",
       "  'taxIncreaseRate': -0.008563592,\n",
       "  'taxPaid': 152.82,\n",
       "  'value': 5620},\n",
       " {'time': 1430239025220,\n",
       "  'valueIncreaseRate': 0,\n",
       "  'taxIncreaseRate': 0,\n",
       "  'taxPaid': 154.14,\n",
       "  'value': 5620},\n",
       " {'time': 1398703025220,\n",
       "  'valueIncreaseRate': 0,\n",
       "  'taxIncreaseRate': 0,\n",
       "  'taxPaid': 154.14,\n",
       "  'value': 5620},\n",
       " {'time': 1367167025220,\n",
       "  'valueIncreaseRate': 0,\n",
       "  'taxIncreaseRate': 0,\n",
       "  'taxPaid': None,\n",
       "  'value': None},\n",
       " {'time': 1335631025220,\n",
       "  'valueIncreaseRate': 0,\n",
       "  'taxIncreaseRate': 0,\n",
       "  'taxPaid': None,\n",
       "  'value': None},\n",
       " {'time': 1304008625220,\n",
       "  'valueIncreaseRate': 0,\n",
       "  'taxIncreaseRate': 0,\n",
       "  'taxPaid': None,\n",
       "  'value': None},\n",
       " {'time': 1272472625220,\n",
       "  'valueIncreaseRate': 0,\n",
       "  'taxIncreaseRate': 0,\n",
       "  'taxPaid': None,\n",
       "  'value': None},\n",
       " {'time': 1240936625220,\n",
       "  'valueIncreaseRate': 0,\n",
       "  'taxIncreaseRate': 0,\n",
       "  'taxPaid': None,\n",
       "  'value': None},\n",
       " {'time': 1209400625220,\n",
       "  'valueIncreaseRate': 0,\n",
       "  'taxIncreaseRate': 0,\n",
       "  'taxPaid': None,\n",
       "  'value': None},\n",
       " {'time': 1177778225220,\n",
       "  'valueIncreaseRate': 0,\n",
       "  'taxIncreaseRate': 0,\n",
       "  'taxPaid': None,\n",
       "  'value': None},\n",
       " {'time': 1114706225220,\n",
       "  'valueIncreaseRate': 0,\n",
       "  'taxIncreaseRate': 0,\n",
       "  'taxPaid': None,\n",
       "  'value': None},\n",
       " {'time': 1083170225220,\n",
       "  'valueIncreaseRate': 0,\n",
       "  'taxIncreaseRate': 0,\n",
       "  'taxPaid': None,\n",
       "  'value': None},\n",
       " {'time': 1051547825220,\n",
       "  'valueIncreaseRate': 0,\n",
       "  'taxIncreaseRate': 0,\n",
       "  'taxPaid': None,\n",
       "  'value': None},\n",
       " {'time': 1020011825220,\n",
       "  'valueIncreaseRate': 0,\n",
       "  'taxIncreaseRate': 0,\n",
       "  'taxPaid': None,\n",
       "  'value': None},\n",
       " {'time': 988475825220,\n",
       "  'valueIncreaseRate': 0,\n",
       "  'taxIncreaseRate': 0,\n",
       "  'taxPaid': None,\n",
       "  'value': None}]"
      ]
     },
     "execution_count": 78,
     "metadata": {},
     "output_type": "execute_result"
    }
   ],
   "source": [
    "prop_det_res[\"taxHistory\"]"
   ]
  },
  {
   "cell_type": "markdown",
   "metadata": {},
   "source": [
    "## Getting user assumptions"
   ]
  },
  {
   "cell_type": "code",
   "execution_count": 66,
   "metadata": {},
   "outputs": [],
   "source": [
    "import json"
   ]
  },
  {
   "cell_type": "code",
   "execution_count": 68,
   "metadata": {},
   "outputs": [],
   "source": [
    "with open('../data/user_finance.json', 'r') as f:\n",
    "    user_finance = json.load(f)"
   ]
  },
  {
   "cell_type": "code",
   "execution_count": 69,
   "metadata": {},
   "outputs": [
    {
     "data": {
      "text/plain": [
       "{'extra_cash_reserves': 2500,\n",
       " 'eqt_pct': 0.5,\n",
       " 'amort_period': 30,\n",
       " 'int_rate_on_debt': 0.05}"
      ]
     },
     "execution_count": 69,
     "metadata": {},
     "output_type": "execute_result"
    }
   ],
   "source": [
    "user_finance"
   ]
  },
  {
   "cell_type": "markdown",
   "metadata": {},
   "source": [
    "# Checking assumptions and calculator modules"
   ]
  },
  {
   "cell_type": "code",
   "execution_count": 3,
   "metadata": {},
   "outputs": [],
   "source": [
    "import sys\n",
    "sys.path.insert(0, '.')\n",
    "sys.path.insert(0, '..')"
   ]
  },
  {
   "cell_type": "code",
   "execution_count": 4,
   "metadata": {},
   "outputs": [
    {
     "name": "stdout",
     "output_type": "stream",
     "text": [
      "The autoreload extension is already loaded. To reload it, use:\n",
      "  %reload_ext autoreload\n"
     ]
    }
   ],
   "source": [
    "%load_ext autoreload\n",
    "%reload_ext autoreload\n",
    "%autoreload 2"
   ]
  },
  {
   "cell_type": "code",
   "execution_count": 5,
   "metadata": {},
   "outputs": [],
   "source": [
    "import numpy as np\n",
    "import pandas as pd\n",
    "from src.utils import DataPrep, InvestmentAssumptions\n",
    "from src.metrics import Metrics"
   ]
  },
  {
   "cell_type": "code",
   "execution_count": 14,
   "metadata": {},
   "outputs": [
    {
     "name": "stdout",
     "output_type": "stream",
     "text": [
      "IRR (unleveraged): 4.64\n",
      "IRR (leveraged): 4.53\n"
     ]
    }
   ],
   "source": [
    "# Given the assumptions and zpid, return the metrics\n",
    "zpid = 26834283\n",
    "\n",
    "dp = DataPrep(zpid)\n",
    "cash_flow_unleveraged = dp.get_cashflow()['cash_flow_unleveraged']\n",
    "cash_flow_leveraged = dp.get_cashflow()['cash_flow_leveraged']\n",
    "dates = dp.get_cashflow()['dates']\n",
    "dates_xirr = Metrics.xirr_dates(dates)\n",
    "\n",
    "irr_unleveraged = np.round((Metrics.xirr(values=cash_flow_unleveraged, dates=dates_xirr))*100, 2)\n",
    "irr_leveraged = np.round((Metrics.xirr(values=cash_flow_leveraged, dates=dates_xirr))*100, 2)\n",
    "print('IRR (unleveraged):', irr_unleveraged)\n",
    "print('IRR (leveraged):', irr_leveraged)"
   ]
  },
  {
   "cell_type": "code",
   "execution_count": 18,
   "metadata": {},
   "outputs": [
    {
     "data": {
      "text/plain": [
       "{'monthly_gross_rent': 3499,\n",
       " 'purchase_price': 499000,\n",
       " 'purchase_date': '2022-04-30',\n",
       " 'closing_costs_': 7485.0,\n",
       " 'extra_cash_reserves': 2500,\n",
       " 'renovation_costs': 3000,\n",
       " 'renovation_period': 4,\n",
       " 'exit_renovation_cost': 3000,\n",
       " 'total_project_cost': 512485.0,\n",
       " 'equity_pct': 0.5,\n",
       " 'total_equity_investment': 256242.0,\n",
       " 'total_project_loan_amount': 256242.0,\n",
       " 'amortization_period': 30,\n",
       " 'interest_rate_on_debt': 0.05,\n",
       " 'MAX_HOLD': 7,\n",
       " 'length_of_hold': 5,\n",
       " 'appreciation': 0.02,\n",
       " 'sales_price_at_exit': 550936.0,\n",
       " 'cost_of_sale': 0.06,\n",
       " 'vacancy_rate': 0.0775,\n",
       " 'rent_growth_rate': 0.03,\n",
       " 'repair_allowance': 0.07,\n",
       " 'repair_allowance_amount': 2939.0,\n",
       " 'property_taxes': 10928.0,\n",
       " 'insurance': 2096,\n",
       " 'property_manager_rate': 0.01,\n",
       " 'property_manager_amount': 35.0,\n",
       " 'utilities': 40,\n",
       " 'discount_rate': 0.075}"
      ]
     },
     "execution_count": 18,
     "metadata": {},
     "output_type": "execute_result"
    }
   ],
   "source": [
    "# get user assumptions\n",
    "\n",
    "import pickle\n",
    "\n",
    "with open('../data/user_assumptions_output.pkl', 'rb') as f:\n",
    "\tua = pickle.load(f)\n",
    "\n",
    "ua"
   ]
  },
  {
   "cell_type": "markdown",
   "metadata": {},
   "source": [
    "## Changing assumptions"
   ]
  },
  {
   "cell_type": "code",
   "execution_count": 19,
   "metadata": {},
   "outputs": [
    {
     "name": "stdout",
     "output_type": "stream",
     "text": [
      "IRR (unleveraged): 4.59\n",
      "IRR (leveraged): 5.37\n"
     ]
    }
   ],
   "source": [
    "investment_assumptions = InvestmentAssumptions(modify_assumptions=True)\n",
    "investment_assumptions.renovation_costs = 4000\n",
    "investment_assumptions.equity_pct = 0.2\n",
    "investment_assumptions.amort_period = 20\n",
    "\n",
    "zpid = 26834283\n",
    "\n",
    "dp = DataPrep(zpid, investment_assumptions=investment_assumptions)\n",
    "cash_flow_unleveraged = dp.get_cashflow()['cash_flow_unleveraged']\n",
    "cash_flow_leveraged = dp.get_cashflow()['cash_flow_leveraged']\n",
    "dates = dp.get_cashflow()['dates']\n",
    "dates_xirr = Metrics.xirr_dates(dates)\n",
    "\n",
    "irr_unleveraged = np.round((Metrics.xirr(values=cash_flow_unleveraged, dates=dates_xirr))*100, 2)\n",
    "irr_leveraged = np.round((Metrics.xirr(values=cash_flow_leveraged, dates=dates_xirr))*100, 2)\n",
    "print('IRR (unleveraged):', irr_unleveraged)\n",
    "print('IRR (leveraged):', irr_leveraged)\n"
   ]
  },
  {
   "cell_type": "code",
   "execution_count": 81,
   "metadata": {},
   "outputs": [
    {
     "name": "stdout",
     "output_type": "stream",
     "text": [
      "{'comparableRentals': 15, 'percentile_25': 2935, 'highRent': 4094, 'lowRent': 1657, 'lat': 32.788971, 'median': 3340, 'rent': 3499, 'percentile_75': 3499, 'long': -96.848045}\n"
     ]
    }
   ],
   "source": [
    "import plotly.express as px\n",
    "\n",
    "dp = DataPrep(26834283)\n",
    "cash_flow = dp.get_cashflow()"
   ]
  },
  {
   "cell_type": "code",
   "execution_count": 84,
   "metadata": {},
   "outputs": [
    {
     "data": {
      "application/vnd.plotly.v1+json": {
       "config": {
        "plotlyServerURL": "https://plot.ly"
       },
       "data": [
        {
         "alignmentgroup": "True",
         "hovertemplate": "Year=%{x}<br>Cash Flow=%{y}<br>text=%{text}<extra></extra>",
         "legendgroup": "",
         "marker": {
          "color": "#636efa",
          "pattern": {
           "shape": ""
          }
         },
         "name": "",
         "offsetgroup": "",
         "orientation": "v",
         "showlegend": false,
         "text": [
          -750,
          -750,
          -750,
          2908,
          2908,
          2908,
          2908,
          2908,
          2908,
          2908,
          2996
         ],
         "textposition": "auto",
         "type": "bar",
         "x": [
          "2022-06-30",
          "2022-07-31",
          "2022-08-31",
          "2022-09-30",
          "2022-10-31",
          "2022-11-30",
          "2022-12-31",
          "2023-01-31",
          "2023-02-28",
          "2023-03-31",
          "2023-04-30"
         ],
         "xaxis": "x",
         "y": [
          -750,
          -750,
          -750,
          2908,
          2908,
          2908,
          2908,
          2908,
          2908,
          2908,
          2996
         ],
         "yaxis": "y"
        }
       ],
       "layout": {
        "barmode": "relative",
        "legend": {
         "tracegroupgap": 0
        },
        "margin": {
         "t": 60
        },
        "template": {
         "data": {
          "bar": [
           {
            "error_x": {
             "color": "#2a3f5f"
            },
            "error_y": {
             "color": "#2a3f5f"
            },
            "marker": {
             "line": {
              "color": "#E5ECF6",
              "width": 0.5
             },
             "pattern": {
              "fillmode": "overlay",
              "size": 10,
              "solidity": 0.2
             }
            },
            "type": "bar"
           }
          ],
          "barpolar": [
           {
            "marker": {
             "line": {
              "color": "#E5ECF6",
              "width": 0.5
             },
             "pattern": {
              "fillmode": "overlay",
              "size": 10,
              "solidity": 0.2
             }
            },
            "type": "barpolar"
           }
          ],
          "carpet": [
           {
            "aaxis": {
             "endlinecolor": "#2a3f5f",
             "gridcolor": "white",
             "linecolor": "white",
             "minorgridcolor": "white",
             "startlinecolor": "#2a3f5f"
            },
            "baxis": {
             "endlinecolor": "#2a3f5f",
             "gridcolor": "white",
             "linecolor": "white",
             "minorgridcolor": "white",
             "startlinecolor": "#2a3f5f"
            },
            "type": "carpet"
           }
          ],
          "choropleth": [
           {
            "colorbar": {
             "outlinewidth": 0,
             "ticks": ""
            },
            "type": "choropleth"
           }
          ],
          "contour": [
           {
            "colorbar": {
             "outlinewidth": 0,
             "ticks": ""
            },
            "colorscale": [
             [
              0,
              "#0d0887"
             ],
             [
              0.1111111111111111,
              "#46039f"
             ],
             [
              0.2222222222222222,
              "#7201a8"
             ],
             [
              0.3333333333333333,
              "#9c179e"
             ],
             [
              0.4444444444444444,
              "#bd3786"
             ],
             [
              0.5555555555555556,
              "#d8576b"
             ],
             [
              0.6666666666666666,
              "#ed7953"
             ],
             [
              0.7777777777777778,
              "#fb9f3a"
             ],
             [
              0.8888888888888888,
              "#fdca26"
             ],
             [
              1,
              "#f0f921"
             ]
            ],
            "type": "contour"
           }
          ],
          "contourcarpet": [
           {
            "colorbar": {
             "outlinewidth": 0,
             "ticks": ""
            },
            "type": "contourcarpet"
           }
          ],
          "heatmap": [
           {
            "colorbar": {
             "outlinewidth": 0,
             "ticks": ""
            },
            "colorscale": [
             [
              0,
              "#0d0887"
             ],
             [
              0.1111111111111111,
              "#46039f"
             ],
             [
              0.2222222222222222,
              "#7201a8"
             ],
             [
              0.3333333333333333,
              "#9c179e"
             ],
             [
              0.4444444444444444,
              "#bd3786"
             ],
             [
              0.5555555555555556,
              "#d8576b"
             ],
             [
              0.6666666666666666,
              "#ed7953"
             ],
             [
              0.7777777777777778,
              "#fb9f3a"
             ],
             [
              0.8888888888888888,
              "#fdca26"
             ],
             [
              1,
              "#f0f921"
             ]
            ],
            "type": "heatmap"
           }
          ],
          "heatmapgl": [
           {
            "colorbar": {
             "outlinewidth": 0,
             "ticks": ""
            },
            "colorscale": [
             [
              0,
              "#0d0887"
             ],
             [
              0.1111111111111111,
              "#46039f"
             ],
             [
              0.2222222222222222,
              "#7201a8"
             ],
             [
              0.3333333333333333,
              "#9c179e"
             ],
             [
              0.4444444444444444,
              "#bd3786"
             ],
             [
              0.5555555555555556,
              "#d8576b"
             ],
             [
              0.6666666666666666,
              "#ed7953"
             ],
             [
              0.7777777777777778,
              "#fb9f3a"
             ],
             [
              0.8888888888888888,
              "#fdca26"
             ],
             [
              1,
              "#f0f921"
             ]
            ],
            "type": "heatmapgl"
           }
          ],
          "histogram": [
           {
            "marker": {
             "pattern": {
              "fillmode": "overlay",
              "size": 10,
              "solidity": 0.2
             }
            },
            "type": "histogram"
           }
          ],
          "histogram2d": [
           {
            "colorbar": {
             "outlinewidth": 0,
             "ticks": ""
            },
            "colorscale": [
             [
              0,
              "#0d0887"
             ],
             [
              0.1111111111111111,
              "#46039f"
             ],
             [
              0.2222222222222222,
              "#7201a8"
             ],
             [
              0.3333333333333333,
              "#9c179e"
             ],
             [
              0.4444444444444444,
              "#bd3786"
             ],
             [
              0.5555555555555556,
              "#d8576b"
             ],
             [
              0.6666666666666666,
              "#ed7953"
             ],
             [
              0.7777777777777778,
              "#fb9f3a"
             ],
             [
              0.8888888888888888,
              "#fdca26"
             ],
             [
              1,
              "#f0f921"
             ]
            ],
            "type": "histogram2d"
           }
          ],
          "histogram2dcontour": [
           {
            "colorbar": {
             "outlinewidth": 0,
             "ticks": ""
            },
            "colorscale": [
             [
              0,
              "#0d0887"
             ],
             [
              0.1111111111111111,
              "#46039f"
             ],
             [
              0.2222222222222222,
              "#7201a8"
             ],
             [
              0.3333333333333333,
              "#9c179e"
             ],
             [
              0.4444444444444444,
              "#bd3786"
             ],
             [
              0.5555555555555556,
              "#d8576b"
             ],
             [
              0.6666666666666666,
              "#ed7953"
             ],
             [
              0.7777777777777778,
              "#fb9f3a"
             ],
             [
              0.8888888888888888,
              "#fdca26"
             ],
             [
              1,
              "#f0f921"
             ]
            ],
            "type": "histogram2dcontour"
           }
          ],
          "mesh3d": [
           {
            "colorbar": {
             "outlinewidth": 0,
             "ticks": ""
            },
            "type": "mesh3d"
           }
          ],
          "parcoords": [
           {
            "line": {
             "colorbar": {
              "outlinewidth": 0,
              "ticks": ""
             }
            },
            "type": "parcoords"
           }
          ],
          "pie": [
           {
            "automargin": true,
            "type": "pie"
           }
          ],
          "scatter": [
           {
            "marker": {
             "colorbar": {
              "outlinewidth": 0,
              "ticks": ""
             }
            },
            "type": "scatter"
           }
          ],
          "scatter3d": [
           {
            "line": {
             "colorbar": {
              "outlinewidth": 0,
              "ticks": ""
             }
            },
            "marker": {
             "colorbar": {
              "outlinewidth": 0,
              "ticks": ""
             }
            },
            "type": "scatter3d"
           }
          ],
          "scattercarpet": [
           {
            "marker": {
             "colorbar": {
              "outlinewidth": 0,
              "ticks": ""
             }
            },
            "type": "scattercarpet"
           }
          ],
          "scattergeo": [
           {
            "marker": {
             "colorbar": {
              "outlinewidth": 0,
              "ticks": ""
             }
            },
            "type": "scattergeo"
           }
          ],
          "scattergl": [
           {
            "marker": {
             "colorbar": {
              "outlinewidth": 0,
              "ticks": ""
             }
            },
            "type": "scattergl"
           }
          ],
          "scattermapbox": [
           {
            "marker": {
             "colorbar": {
              "outlinewidth": 0,
              "ticks": ""
             }
            },
            "type": "scattermapbox"
           }
          ],
          "scatterpolar": [
           {
            "marker": {
             "colorbar": {
              "outlinewidth": 0,
              "ticks": ""
             }
            },
            "type": "scatterpolar"
           }
          ],
          "scatterpolargl": [
           {
            "marker": {
             "colorbar": {
              "outlinewidth": 0,
              "ticks": ""
             }
            },
            "type": "scatterpolargl"
           }
          ],
          "scatterternary": [
           {
            "marker": {
             "colorbar": {
              "outlinewidth": 0,
              "ticks": ""
             }
            },
            "type": "scatterternary"
           }
          ],
          "surface": [
           {
            "colorbar": {
             "outlinewidth": 0,
             "ticks": ""
            },
            "colorscale": [
             [
              0,
              "#0d0887"
             ],
             [
              0.1111111111111111,
              "#46039f"
             ],
             [
              0.2222222222222222,
              "#7201a8"
             ],
             [
              0.3333333333333333,
              "#9c179e"
             ],
             [
              0.4444444444444444,
              "#bd3786"
             ],
             [
              0.5555555555555556,
              "#d8576b"
             ],
             [
              0.6666666666666666,
              "#ed7953"
             ],
             [
              0.7777777777777778,
              "#fb9f3a"
             ],
             [
              0.8888888888888888,
              "#fdca26"
             ],
             [
              1,
              "#f0f921"
             ]
            ],
            "type": "surface"
           }
          ],
          "table": [
           {
            "cells": {
             "fill": {
              "color": "#EBF0F8"
             },
             "line": {
              "color": "white"
             }
            },
            "header": {
             "fill": {
              "color": "#C8D4E3"
             },
             "line": {
              "color": "white"
             }
            },
            "type": "table"
           }
          ]
         },
         "layout": {
          "annotationdefaults": {
           "arrowcolor": "#2a3f5f",
           "arrowhead": 0,
           "arrowwidth": 1
          },
          "autotypenumbers": "strict",
          "coloraxis": {
           "colorbar": {
            "outlinewidth": 0,
            "ticks": ""
           }
          },
          "colorscale": {
           "diverging": [
            [
             0,
             "#8e0152"
            ],
            [
             0.1,
             "#c51b7d"
            ],
            [
             0.2,
             "#de77ae"
            ],
            [
             0.3,
             "#f1b6da"
            ],
            [
             0.4,
             "#fde0ef"
            ],
            [
             0.5,
             "#f7f7f7"
            ],
            [
             0.6,
             "#e6f5d0"
            ],
            [
             0.7,
             "#b8e186"
            ],
            [
             0.8,
             "#7fbc41"
            ],
            [
             0.9,
             "#4d9221"
            ],
            [
             1,
             "#276419"
            ]
           ],
           "sequential": [
            [
             0,
             "#0d0887"
            ],
            [
             0.1111111111111111,
             "#46039f"
            ],
            [
             0.2222222222222222,
             "#7201a8"
            ],
            [
             0.3333333333333333,
             "#9c179e"
            ],
            [
             0.4444444444444444,
             "#bd3786"
            ],
            [
             0.5555555555555556,
             "#d8576b"
            ],
            [
             0.6666666666666666,
             "#ed7953"
            ],
            [
             0.7777777777777778,
             "#fb9f3a"
            ],
            [
             0.8888888888888888,
             "#fdca26"
            ],
            [
             1,
             "#f0f921"
            ]
           ],
           "sequentialminus": [
            [
             0,
             "#0d0887"
            ],
            [
             0.1111111111111111,
             "#46039f"
            ],
            [
             0.2222222222222222,
             "#7201a8"
            ],
            [
             0.3333333333333333,
             "#9c179e"
            ],
            [
             0.4444444444444444,
             "#bd3786"
            ],
            [
             0.5555555555555556,
             "#d8576b"
            ],
            [
             0.6666666666666666,
             "#ed7953"
            ],
            [
             0.7777777777777778,
             "#fb9f3a"
            ],
            [
             0.8888888888888888,
             "#fdca26"
            ],
            [
             1,
             "#f0f921"
            ]
           ]
          },
          "colorway": [
           "#636efa",
           "#EF553B",
           "#00cc96",
           "#ab63fa",
           "#FFA15A",
           "#19d3f3",
           "#FF6692",
           "#B6E880",
           "#FF97FF",
           "#FECB52"
          ],
          "font": {
           "color": "#2a3f5f"
          },
          "geo": {
           "bgcolor": "white",
           "lakecolor": "white",
           "landcolor": "#E5ECF6",
           "showlakes": true,
           "showland": true,
           "subunitcolor": "white"
          },
          "hoverlabel": {
           "align": "left"
          },
          "hovermode": "closest",
          "mapbox": {
           "style": "light"
          },
          "paper_bgcolor": "white",
          "plot_bgcolor": "#E5ECF6",
          "polar": {
           "angularaxis": {
            "gridcolor": "white",
            "linecolor": "white",
            "ticks": ""
           },
           "bgcolor": "#E5ECF6",
           "radialaxis": {
            "gridcolor": "white",
            "linecolor": "white",
            "ticks": ""
           }
          },
          "scene": {
           "xaxis": {
            "backgroundcolor": "#E5ECF6",
            "gridcolor": "white",
            "gridwidth": 2,
            "linecolor": "white",
            "showbackground": true,
            "ticks": "",
            "zerolinecolor": "white"
           },
           "yaxis": {
            "backgroundcolor": "#E5ECF6",
            "gridcolor": "white",
            "gridwidth": 2,
            "linecolor": "white",
            "showbackground": true,
            "ticks": "",
            "zerolinecolor": "white"
           },
           "zaxis": {
            "backgroundcolor": "#E5ECF6",
            "gridcolor": "white",
            "gridwidth": 2,
            "linecolor": "white",
            "showbackground": true,
            "ticks": "",
            "zerolinecolor": "white"
           }
          },
          "shapedefaults": {
           "line": {
            "color": "#2a3f5f"
           }
          },
          "ternary": {
           "aaxis": {
            "gridcolor": "white",
            "linecolor": "white",
            "ticks": ""
           },
           "baxis": {
            "gridcolor": "white",
            "linecolor": "white",
            "ticks": ""
           },
           "bgcolor": "#E5ECF6",
           "caxis": {
            "gridcolor": "white",
            "linecolor": "white",
            "ticks": ""
           }
          },
          "title": {
           "x": 0.05
          },
          "xaxis": {
           "automargin": true,
           "gridcolor": "white",
           "linecolor": "white",
           "ticks": "",
           "title": {
            "standoff": 15
           },
           "zerolinecolor": "white",
           "zerolinewidth": 2
          },
          "yaxis": {
           "automargin": true,
           "gridcolor": "white",
           "linecolor": "white",
           "ticks": "",
           "title": {
            "standoff": 15
           },
           "zerolinecolor": "white",
           "zerolinewidth": 2
          }
         }
        },
        "xaxis": {
         "anchor": "y",
         "domain": [
          0,
          1
         ],
         "title": {
          "text": "Year"
         }
        },
        "yaxis": {
         "anchor": "x",
         "domain": [
          0,
          1
         ],
         "title": {
          "text": "Cash Flow"
         }
        }
       }
      }
     },
     "metadata": {},
     "output_type": "display_data"
    }
   ],
   "source": [
    "dates = cash_flow['dates'][1:12]\n",
    "c_u = cash_flow['cash_flow_unleveraged'][1:12]\n",
    "\n",
    "fig = px.bar(x=dates, y=c_u, labels={\"x\": \"Year\", \"y\": \"Cash Flow\"}, text=c_u)\n",
    "fig.show()"
   ]
  },
  {
   "cell_type": "code",
   "execution_count": null,
   "metadata": {},
   "outputs": [],
   "source": [
    "cash_flow['net_rents']"
   ]
  },
  {
   "cell_type": "markdown",
   "metadata": {},
   "source": [
    "# Cap rate\n",
    "\n",
    "Cap Rate = Annual net return / current market value"
   ]
  },
  {
   "cell_type": "code",
   "execution_count": 27,
   "metadata": {},
   "outputs": [
    {
     "data": {
      "text/plain": [
       "2.07"
      ]
     },
     "execution_count": 27,
     "metadata": {},
     "output_type": "execute_result"
    }
   ],
   "source": [
    "with open('../data/cash_flow_output.pkl', 'rb') as f:\n",
    "    cash_flow = pickle.load(f)\n",
    "\n",
    "with open('../data/user_assumptions_output.pkl', 'rb') as f:\n",
    "    ua = pickle.load(f)\n",
    "\n",
    "np.round((np.sum(cash_flow['net_rents'][:12]) / ua['purchase_price'])*100, 2)"
   ]
  },
  {
   "cell_type": "code",
   "execution_count": 33,
   "metadata": {},
   "outputs": [
    {
     "data": {
      "text/plain": [
       "2.07"
      ]
     },
     "execution_count": 33,
     "metadata": {},
     "output_type": "execute_result"
    }
   ],
   "source": [
    "from src.metrics import Metrics\n",
    "\n",
    "Metrics.cap_rate(cash_flow['net_rents'], ua['purchase_price'])"
   ]
  },
  {
   "cell_type": "markdown",
   "metadata": {},
   "source": [
    "# Cash on Cash Return\n",
    "\n",
    "$\\text{CoC} = \\frac{\\small{\\text{Annual Pre-Tax Cash Flow}}}{\\small{\\text{Total Cash Invested}}}$\n",
    "\n",
    "**where:**\n",
    "\n",
    "- $\\text{APTCF = (GSR + OI) - (V + OE + AMP)}$\n",
    "- $\\text{GSR = Gross Scheduled Rent}$\n",
    "- $\\text{OI = Other Income}$\n",
    "- $\\text{V = Vacancy}$\n",
    "- $\\text{OE = Operating Expenses}$\n",
    "- $\\text{AMP = Annual Mortgage Payment}$"
   ]
  },
  {
   "cell_type": "code",
   "execution_count": 30,
   "metadata": {},
   "outputs": [
    {
     "data": {
      "text/plain": [
       "20.7"
      ]
     },
     "execution_count": 30,
     "metadata": {},
     "output_type": "execute_result"
    }
   ],
   "source": [
    "aptcf = np.sum(cash_flow['net_rents'][:12]) + np.sum(cash_flow['less_taxes'][:12])\n",
    "\n",
    "np.round((aptcf / np.sum(cash_flow['cash_invested'][:12]))*100, 2)"
   ]
  },
  {
   "cell_type": "code",
   "execution_count": 36,
   "metadata": {},
   "outputs": [
    {
     "data": {
      "text/plain": [
       "20.7"
      ]
     },
     "execution_count": 36,
     "metadata": {},
     "output_type": "execute_result"
    }
   ],
   "source": [
    "from src.metrics import Metrics\n",
    "\n",
    "Metrics.cash_on_cash_return(cash_flow['net_rents'], cash_flow['less_taxes'], cash_flow['cash_invested'])"
   ]
  },
  {
   "cell_type": "markdown",
   "metadata": {},
   "source": [
    "# Downloading property images"
   ]
  },
  {
   "cell_type": "code",
   "execution_count": 89,
   "metadata": {},
   "outputs": [],
   "source": [
    "images = api.property_image(zpid).json()"
   ]
  },
  {
   "cell_type": "code",
   "execution_count": 94,
   "metadata": {},
   "outputs": [
    {
     "data": {
      "text/plain": [
       "['https://photos.zillowstatic.com/fp/05c4510f6c848ec041692ce8b82fd5a2-cc_ft_1536.jpg',\n",
       " 'https://photos.zillowstatic.com/fp/dc07c3f6164285f25a749fa9f3dd3fa2-cc_ft_1536.jpg',\n",
       " 'https://photos.zillowstatic.com/fp/7c948b092f1ed02569baf3b62c5a4ebf-cc_ft_1536.jpg',\n",
       " 'https://photos.zillowstatic.com/fp/6eb47866b0b2f8be330432febc15a10a-cc_ft_1536.jpg',\n",
       " 'https://photos.zillowstatic.com/fp/3a05458f72aa452a09b72370f019bb44-cc_ft_1536.jpg',\n",
       " 'https://photos.zillowstatic.com/fp/f308bfd1b9943f3e897841c7ce582c7d-cc_ft_1536.jpg',\n",
       " 'https://photos.zillowstatic.com/fp/9e19d9df8bc5c0b9857db449bdc931ff-cc_ft_1536.jpg',\n",
       " 'https://photos.zillowstatic.com/fp/47ff182057bdc1deab8572ef25d93021-cc_ft_1536.jpg',\n",
       " 'https://photos.zillowstatic.com/fp/a5305d27402eeb82f3abcdeb33cfacb3-cc_ft_1536.jpg',\n",
       " 'https://photos.zillowstatic.com/fp/5122a9e412138242dc051047153b32b6-cc_ft_1536.jpg',\n",
       " 'https://photos.zillowstatic.com/fp/60104b3ba017c139ce59e88ed16202d9-cc_ft_1536.jpg',\n",
       " 'https://photos.zillowstatic.com/fp/4704c66eba4a579c40bfad627998881c-cc_ft_1536.jpg',\n",
       " 'https://photos.zillowstatic.com/fp/3b9cf0ded79e6c42da286ce3a137c8c5-cc_ft_1536.jpg',\n",
       " 'https://photos.zillowstatic.com/fp/edda131fc17f54936c37a7b9bbd576ac-cc_ft_1536.jpg',\n",
       " 'https://photos.zillowstatic.com/fp/2e7877991395bb7ca3b69b33fd34ef51-cc_ft_1536.jpg',\n",
       " 'https://photos.zillowstatic.com/fp/293594b21fca4590dbd4febb8e962b71-cc_ft_1536.jpg',\n",
       " 'https://photos.zillowstatic.com/fp/c2993419d3d2b5dc5c9ebdcb376ef40a-cc_ft_1536.jpg',\n",
       " 'https://photos.zillowstatic.com/fp/0eaa7fe77922bbb1e8406cfa0d88f7aa-cc_ft_1536.jpg',\n",
       " 'https://photos.zillowstatic.com/fp/c351d2b6ef654a409eb1626b1d8e1675-cc_ft_1536.jpg',\n",
       " 'https://photos.zillowstatic.com/fp/ea8fc46b26b26d1389785527bc24f794-cc_ft_1536.jpg',\n",
       " 'https://photos.zillowstatic.com/fp/0a22a6ec91924a475d237c3f0ec600f7-cc_ft_1536.jpg']"
      ]
     },
     "execution_count": 94,
     "metadata": {},
     "output_type": "execute_result"
    }
   ],
   "source": [
    "images['images']"
   ]
  },
  {
   "cell_type": "code",
   "execution_count": 85,
   "metadata": {},
   "outputs": [
    {
     "name": "stdout",
     "output_type": "stream",
     "text": [
      "05c4510f6c848ec041692ce8b82fd5a2-cc_ft_1536.jpg\n"
     ]
    }
   ],
   "source": [
    "import requests\n",
    "\n",
    "image_url = \"https://photos.zillowstatic.com/fp/05c4510f6c848ec041692ce8b82fd5a2-cc_ft_1536.jpg\"\n",
    "\n",
    "filename = image_url.split(\"/\")[-1]\n",
    "print(filename)"
   ]
  },
  {
   "cell_type": "code",
   "execution_count": 87,
   "metadata": {},
   "outputs": [
    {
     "name": "stdout",
     "output_type": "stream",
     "text": [
      "Image sucessfully Downloaded:  05c4510f6c848ec041692ce8b82fd5a2-cc_ft_1536.jpg\n"
     ]
    }
   ],
   "source": [
    "import os\n",
    "import shutil\n",
    "\n",
    "os.mkdir(f\"../data/images/{str(zpid)}\")\n",
    "\n",
    "# Open the url image, set stream to True, this will return the stream content.\n",
    "r = requests.get(image_url, stream = True)\n",
    "\n",
    "# Check if the image was retrieved successfully\n",
    "if r.status_code == 200:\n",
    "    # Set decode_content value to True, otherwise the downloaded image file's size will be zero.\n",
    "    r.raw.decode_content = True\n",
    "    \n",
    "    # Open a local file with wb ( write binary ) permission.\n",
    "    with open(f\"../data/images/{str(zpid)}/{filename}\",'wb') as f:\n",
    "        shutil.copyfileobj(r.raw, f)\n",
    "        \n",
    "    print('Image sucessfully Downloaded: ',filename)\n",
    "else:\n",
    "    print('Image Couldn\\'t be retreived')"
   ]
  },
  {
   "cell_type": "code",
   "execution_count": 88,
   "metadata": {},
   "outputs": [
    {
     "data": {
      "text/plain": [
       "['05c4510f6c848ec041692ce8b82fd5a2-cc_ft_1536.jpg']"
      ]
     },
     "execution_count": 88,
     "metadata": {},
     "output_type": "execute_result"
    }
   ],
   "source": [
    "os.listdir(f\"../data/images/{str(zpid)}\")"
   ]
  },
  {
   "cell_type": "markdown",
   "metadata": {},
   "source": [
    "# Fixing search"
   ]
  },
  {
   "cell_type": "code",
   "execution_count": 1,
   "metadata": {},
   "outputs": [],
   "source": [
    "%matplotlib inline\n",
    "%load_ext autoreload\n",
    "%autoreload 2"
   ]
  },
  {
   "cell_type": "code",
   "execution_count": 2,
   "metadata": {},
   "outputs": [],
   "source": [
    "import sys\n",
    "sys.path.insert(0, '.')\n",
    "sys.path.insert(0, '..')\n",
    "\n",
    "import os\n",
    "from re import sub\n",
    "import requests\n",
    "import streamlit as st\n",
    "import numpy as np\n",
    "import pandas as pd\n",
    "import json\n",
    "import plotly.express as px\n",
    "import src.api as api\n",
    "import time\n",
    "import pickle\n",
    "from src.utils import DataPrep, InvestmentAssumptions\n",
    "from src.config import *\n",
    "from src.metrics import Metrics\n",
    "\n",
    "import logging"
   ]
  },
  {
   "cell_type": "code",
   "execution_count": 8,
   "metadata": {},
   "outputs": [],
   "source": [
    "zpid = 305433403\n",
    "dp = DataPrep(zpid)"
   ]
  },
  {
   "cell_type": "code",
   "execution_count": 9,
   "metadata": {},
   "outputs": [
    {
     "name": "stdout",
     "output_type": "stream",
     "text": [
      "irr unleveraged:  2.84\n",
      "irr leveraged:  0.83\n",
      "cap rate:  0.74\n",
      "cash on cash return:  6.18\n"
     ]
    },
    {
     "name": "stderr",
     "output_type": "stream",
     "text": [
      "/usr/local/lib/python3.9/site-packages/scipy/optimize/_nonlin.py:1071: LinAlgWarning: Ill-conditioned matrix (rcond=4.61736e-18): result may not be accurate.\n",
      "  gamma = solve(self.a, df_f)\n"
     ]
    }
   ],
   "source": [
    "cash_flow = dp.get_cashflow()\n",
    "cash_flow_unleveraged = cash_flow['cash_flow_unleveraged']\n",
    "cash_flow_leveraged = cash_flow['cash_flow_leveraged']\n",
    "dates = dp.get_cashflow()['dates']\n",
    "dates_xirr = Metrics.xirr_dates(dates)\n",
    "irr_unleveraged = np.round((Metrics.xirr(values=cash_flow_unleveraged, dates=dates_xirr))*100, 2)\n",
    "irr_leveraged = np.round((Metrics.xirr(values=cash_flow_leveraged, dates=dates_xirr))*100, 2)\n",
    "cap_rate = Metrics.cap_rate(cash_flow['net_rents'], 500000)\n",
    "coc = Metrics.cash_on_cash_return(cash_flow['net_rents'], cash_flow['less_taxes'], cash_flow['cash_invested'])\n",
    "# print(f\"prop_det: {dp.prop_detail}\")\n",
    "print(\"irr unleveraged: \", irr_unleveraged)\n",
    "print(\"irr leveraged: \", irr_leveraged)\n",
    "print(\"cap rate: \", cap_rate)\n",
    "print(\"cash on cash return: \", coc)"
   ]
  },
  {
   "cell_type": "code",
   "execution_count": 24,
   "metadata": {},
   "outputs": [
    {
     "data": {
      "text/plain": [
       "[{'zpid': 11927324}, {'zpid': 2067159178}]"
      ]
     },
     "execution_count": 24,
     "metadata": {},
     "output_type": "execute_result"
    }
   ],
   "source": [
    "import requests\n",
    "\n",
    "def search_by_mls(mls_number):\n",
    "    url = \"https://zillow-com1.p.rapidapi.com/propertyByMls\"\n",
    "\n",
    "    querystring = {\"mls\": f\"{str(mls_number)}\"}\n",
    "\n",
    "    headers = {\n",
    "        \"X-RapidAPI-Host\": \"zillow-com1.p.rapidapi.com\",\n",
    "        \"X-RapidAPI-Key\": \"a271625fdbmsh9c07327c04cb02bp1314d1jsn9ac44145b089\"\n",
    "    }\n",
    "\n",
    "    response = requests.request(\"GET\", url, headers=headers, params=querystring)\n",
    "    return response\n",
    "\n",
    "search_by_mls(1773438).json()"
   ]
  },
  {
   "cell_type": "code",
   "execution_count": 22,
   "metadata": {},
   "outputs": [],
   "source": [
    "dic = {}\n",
    "dic['a'] = 1\n",
    "dic['b'] = 2\n",
    "dic[2] = 3\n"
   ]
  },
  {
   "cell_type": "code",
   "execution_count": 25,
   "metadata": {},
   "outputs": [],
   "source": [
    "mls_zpid_mapping = {}\n",
    "mls_zpid_mapping['1773438'] = 11927324"
   ]
  },
  {
   "cell_type": "code",
   "execution_count": 26,
   "metadata": {},
   "outputs": [],
   "source": [
    "import json\n",
    "with open('../data/mls_zpid_mapping.json', 'w') as f:\n",
    "\tjson.dump(mls_zpid_mapping, f)"
   ]
  },
  {
   "cell_type": "code",
   "execution_count": 27,
   "metadata": {},
   "outputs": [],
   "source": [
    "import src.api as api"
   ]
  },
  {
   "cell_type": "code",
   "execution_count": 32,
   "metadata": {},
   "outputs": [],
   "source": [
    "prop_det = api.property_detail(26700758).json()"
   ]
  },
  {
   "cell_type": "code",
   "execution_count": 48,
   "metadata": {},
   "outputs": [
    {
     "data": {
      "text/plain": [
       "{'city': 'Dallas',\n",
       " 'neighborhood': None,\n",
       " 'state': 'TX',\n",
       " 'streetAddress': '616 Newell Ave',\n",
       " 'zipcode': '75223'}"
      ]
     },
     "execution_count": 48,
     "metadata": {},
     "output_type": "execute_result"
    }
   ],
   "source": [
    "prop_det['address']"
   ]
  },
  {
   "cell_type": "markdown",
   "metadata": {},
   "source": [
    "# metrics - previous version"
   ]
  },
  {
   "cell_type": "code",
   "execution_count": null,
   "metadata": {},
   "outputs": [],
   "source": [
    "\"\"\"\n",
    "List of metrics:\n",
    "\t- Levered IRR\n",
    "\t- Unlevered IRR\n",
    "\t- Mortgage Payment\n",
    "\t- Total Payments\n",
    "\t- Total Interest\n",
    "\t- Cash Required\n",
    "\t- Minimum Monthly Expenses\n",
    "\t- Monthly Cash Flow\n",
    "\t- Max Purhcase Price\n",
    "\t- Annual Yield (CoC ROI)\n",
    "\t- Cap Rate\n",
    "\n",
    "It requires the following input data:\n",
    "\t- Purchase Price\n",
    "\t- Rental Income\n",
    "\t- Closing Costs\n",
    "\t- Loan Amount\n",
    "\t- Interest Rate\n",
    "\t- Vacancy Rate\n",
    "\t- Loan Term\n",
    "\t- Maintenance Expense\n",
    "\t- Property Management Fees\n",
    "\t- Annual Property Taxes\n",
    "\t- Annual Property Insurance\n",
    "\"\"\"\n",
    "\n",
    "# Metric Definitions:\n",
    "# ===================\n",
    "# Cash on Cash = (Annual Cash Flow / Actual Cash In) * 100\n",
    "# Expenses = Mortgage payment + (Annual taxes + Annual Insurance)/12 + \n",
    "#            + (Rental Income * Vacancy Rate)\n",
    "#            + (Rental Income * Maintenance Rate)\n",
    "#            + (Rental Income * Property Management Fees)\n",
    "# Cash Flow = Rental Income - Expenses (Monthly Expenses)\n",
    "# Cap Rate = (Annual Cash Flow / Market Value of Property) * 100\n",
    "# ==============================================================\n",
    "\n",
    "import sys\n",
    "import pandas as pd\n",
    "\n",
    "def get_mortgate_pmt(principal, irate, term):\n",
    "    \"\"\"\n",
    "    Calculate the monthly mortgage payment from mortgage details\n",
    "    \"\"\"\n",
    "    irate = irate/1200  # -> percentage rate / 12 since monthly payment\n",
    "    return float(principal) * float((irate*(1+irate)**term) / (((1+irate)**term)-1))\n",
    "\n",
    "\n",
    "def calc_expenses(rent, vac_rate, maint_rate, prop_mgmt_fees, taxes, insurance):\n",
    "    \"\"\"\n",
    "    returns all non-mortgage payment expenses for a month \n",
    "    \"\"\"\n",
    "    return (rent * vac_rate) \\\n",
    "              + (rent * maint_rate) \\\n",
    "              + (rent * prop_mgmt_fees) \\\n",
    "              + (taxes / 12) \\\n",
    "              + (insurance / 12)\n",
    "\n",
    "\n",
    "def calc_cash_flow(rent, vac_rate, maint_rate, prop_mgmt_fees, taxes, insurance, mgt_payment):\n",
    "    \"\"\"\n",
    "    determines the monthly cash flow expected from the property\n",
    "    \"\"\"\n",
    "    expenses = calc_expenses(rent, vac_rate, maint_rate, prop_mgmt_fees, taxes, insurance)\n",
    "    return rent - expenses - mgt_payment\n",
    "\n",
    "\n",
    "def calc_max_principal(rent, vac_rate, maint_rate, prop_mgmt_fees, taxes, insurance, \\\n",
    "                       irate, term, min_cf=100):\n",
    "    \"\"\"\n",
    "    Calculate the maximum principal for the property to ensure that the cash flow >= min_cf\n",
    "    \"\"\"\n",
    "    irate = irate/1200\n",
    "    expenses = calc_expenses(rent, vac_rate, maint_rate, prop_mgmt_fees, taxes, insurance)\n",
    "    qty = float((irate*(1+irate)**term) / (((1+irate)**term)-1))\n",
    "    p = (-min_cf + rent - expenses) / qty\n",
    "    return p/.8\n",
    "\n",
    "\n",
    "def read_data(filename):\n",
    "    \"\"\"\n",
    "    Reads the data from the csv file\n",
    "    \"\"\"\n",
    "    return pd.read_csv(filename, sep=r'\\s*,\\s*', encoding='ascii', engine='python')\n",
    "\n",
    "\n"
   ]
  }
 ],
 "metadata": {
  "interpreter": {
   "hash": "aee8b7b246df8f9039afb4144a1f6fd8d2ca17a180786b69acc140d282b71a49"
  },
  "kernelspec": {
   "display_name": "Python 3.9.10 64-bit",
   "language": "python",
   "name": "python3"
  },
  "language_info": {
   "codemirror_mode": {
    "name": "ipython",
    "version": 3
   },
   "file_extension": ".py",
   "mimetype": "text/x-python",
   "name": "python",
   "nbconvert_exporter": "python",
   "pygments_lexer": "ipython3",
   "version": "3.9.10"
  },
  "orig_nbformat": 4
 },
 "nbformat": 4,
 "nbformat_minor": 2
}
