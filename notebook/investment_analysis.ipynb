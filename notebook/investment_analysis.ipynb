{
 "cells": [
  {
   "cell_type": "code",
   "execution_count": 278,
   "metadata": {},
   "outputs": [],
   "source": [
    "import sys\n",
    "import pandas as pd\n",
    "import numpy as np\n",
    "import numpy_financial as npf"
   ]
  },
  {
   "cell_type": "markdown",
   "metadata": {},
   "source": [
    "## Main Assumptions"
   ]
  },
  {
   "cell_type": "code",
   "execution_count": 247,
   "metadata": {},
   "outputs": [],
   "source": [
    "from datetime import datetime"
   ]
  },
  {
   "cell_type": "code",
   "execution_count": 235,
   "metadata": {},
   "outputs": [],
   "source": [
    "# -- Core Deal Assumptions\n",
    "monthly_gross_rent = 1_500\n",
    "purchase_price = 120_000\n",
    "purchase_date = datetime.now().strftime('%Y-%m-%d')  # by default we're getting today's date\n",
    "closing_costs_ = int(0.016675*purchase_price)  # typically 1-2% of purchase price\n",
    "\n",
    "extra_cash_reserves = 2_500\n",
    "\n",
    "# -- Renovations\n",
    "renovation_costs = 1_500\n",
    "renovation_period = 4  # lease up window in months\n",
    "exit_renovation_cost = 5_000\n",
    "\n",
    "total_project_cost = purchase_price + closing_costs_ + renovation_costs + exit_renovation_cost\n",
    "\n",
    "# -- Financing\n",
    "equity_pct = 0.5\n",
    "total_equity_investment = int(equity_pct*total_project_cost)\n",
    "total_project_loan_amount = int((1-equity_pct)*total_project_cost)\n",
    "amortization_period = 30  # years\n",
    "interest_rate_on_debt = 0.055\n",
    "\n",
    "# -- Exit Assumptions\n",
    "MAX_HOLD = 7  # maximum holding period in years\n",
    "length_of_hold = 7  # years\n",
    "appreciation = 0.02  # annual\n",
    "sales_price_at_exit = int(purchase_price*(1 + appreciation)**min(MAX_HOLD, length_of_hold))  # value of property at exit\n",
    "cost_of_sale = 0.06  # broker fees & closing costs\n",
    "\n",
    "# -- Other Assumptions\n",
    "vacancy_rate = 0.0775 # annual, 7.75% means 4 weeks vacancy\n",
    "vacancy_weeks = np.round(vacancy_rate*52, 1)\n",
    "rent_growth_rate = 0.03 # annual\n",
    "repair_allowance = 0.07 # monthly\n",
    "repair_allowance_amount = int(repair_allowance*monthly_gross_rent*12) # annual\n",
    "property_taxes = 1_500 # annual\n",
    "insurance = 500 # annual\n",
    "property_manager_rate = 0.0 # monthly\n",
    "property_manager_amount = int(property_manager_rate*monthly_gross_rent) # per month starting year 1\n",
    "utilities = 40 # monthly, it'll be $0 if tenant is paying\n",
    "discount_rate = 0.075  # for calculating NPV\n",
    "\n",
    "# -- Uses\n",
    "total_uses = int(purchase_price + closing_costs_ + renovation_costs + exit_renovation_cost)\n",
    "\n",
    "# -- Sources\n",
    "equity = int(total_uses - total_project_loan_amount)"
   ]
  },
  {
   "cell_type": "markdown",
   "metadata": {},
   "source": [
    "## Amortization"
   ]
  },
  {
   "cell_type": "code",
   "execution_count": 236,
   "metadata": {},
   "outputs": [],
   "source": [
    "rate_per_period = (1 + interest_rate_on_debt/12)**(12/12) - 1\n",
    "number_of_payments = 360  #TODO: get this from amortization\n",
    "monthly_payment = -np.round(npf.pmt(rate= interest_rate_on_debt/ 12, nper=amortization_period * 12, pv=total_project_loan_amount, fv=0, when='end'), 2)\n",
    "amortization_date = pd.date_range(start=purchase_date, periods=int(12*amortization_period), freq='M').strftime('%Y-%m-%d').tolist()\n",
    "payment_no = [i+1 for i in range(len(amortization_date))]\n",
    "amortization_month = [i+1 if i <= len(months)-1 else 0 for i in range(len(amortization_date))]\n",
    "amortization_interest = []\n",
    "amortization_balance = []\n",
    "amortization_principal = []\n",
    "amortization_additional_payment = []\n",
    "\n",
    "for i in range(len(amortization_date)):\n",
    "    if i == 0:\n",
    "        amortization_interest.append(0)\n",
    "        amortization_balance.append(total_project_loan_amount)\n",
    "        amortization_principal.append(0)\n",
    "        amortization_additional_payment.append(0)\n",
    "    else:\n",
    "        amortization_interest.append(np.round(amortization_balance[i-1]*rate_per_period, 2))\n",
    "        amortization_principal.append(np.round(monthly_payment - amortization_interest[i], 2))\n",
    "        amortization_additional_payment.append(0)\n",
    "        amortization_balance.append(np.round(amortization_balance[i-1] - amortization_principal[i] - amortization_additional_payment[i], 2))"
   ]
  },
  {
   "cell_type": "markdown",
   "metadata": {},
   "source": [
    "## Monthly P&L"
   ]
  },
  {
   "cell_type": "code",
   "execution_count": 237,
   "metadata": {},
   "outputs": [],
   "source": [
    "# inputs\n",
    "\n",
    "from datetime import datetime\n",
    "\n",
    "def cumulative(lists):\n",
    "    cu_list = []\n",
    "    length = len(lists)\n",
    "    cu_list = [sum(lists[0:x:1]) for x in range(0, length+1)]\n",
    "    return np.sum(cu_list[1:])\n",
    "\n",
    "def calc_rent_cash_flow(months, monthly_gross_rent, rental_growth_rate, lease_up, exit_sale, project_life):\n",
    "    rent_cash_flow = []\n",
    "    rent_cash_flow.append(lease_up[0]*monthly_gross_rent)\n",
    "    for i in range(1, len(months)):\n",
    "        rent_cash_flow.append(int(np.round(max(lease_up[i]*monthly_gross_rent*(1+rental_growth_rate[i]), (rent_cash_flow[i-1]*(1+rental_growth_rate[i])))*project_life[i], 0)))\n",
    "    return rent_cash_flow\n",
    "\n",
    "# -- Timing\n",
    "dates = pd.date_range(start=purchase_date, periods=int(12*length_of_hold), freq='M').strftime('%Y-%m-%d').tolist()\n",
    "months_numbers = [datetime.strptime(d, '%Y-%m-%d').month for d in dates]\n",
    "months = [i+1 for i in range(len(months_numbers))]\n",
    "lease_up = [0 if months[i] <= renovation_period else 1 for i in range(len(months))] \n",
    "exit_sale = [0 if np.round(min(min(np.round(length_of_hold, 0), 7), 7), 0)*12 != months[i] else 1 for i in range(len(months))]\n",
    "project_life = [0 if cumulative(exit_sale[:i]) == 1 else 1 for i in range(len(exit_sale))]\n",
    "\n",
    "# -- Rent Assumptions\n",
    "rental_growth_rate = [rent_growth_rate if (months[i] % 12) == 0 else 0 for i in range(len(months))]\n",
    "vacancy = [vacancy_rate for i in range(len(months))]\n",
    "\n",
    "# -- Project Costs\n",
    "closing_costs = [0 for i in range(len(months))]\n",
    "closing_costs[0] = -closing_costs_\n",
    "purchase_costs = [0 for i in range(len(months))]\n",
    "purchase_costs[0] = -purchase_price\n",
    "renovations0 = [-renovation_costs//renovation_period if months[i] <= renovation_period else 0 for i in range(len(months))]\n",
    "renovations1 = [exit_renovation_cost if months[i] == min(length_of_hold, MAX_HOLD)*12 else 0 for i in range(len(months))]\n",
    "renovations = [renovations0[i]-renovations1[i] for i in range(len(months))]\n",
    "\n",
    "total_project_costs = [closing_costs[i]+purchase_costs[i]+renovations[i] for i in range(len(months))]\n",
    "\n",
    "# -- Net Rents\n",
    "cash_invested = [0 for i in range(len(months))]\n",
    "cash_invested[0] = total_equity_investment\n",
    "extra_reserves = [0 for i in range(len(months))]\n",
    "extra_reserves[0] = extra_cash_reserves\n",
    "\n",
    "rents = calc_rent_cash_flow(months, monthly_gross_rent, rental_growth_rate, lease_up, exit_sale, project_life)\n",
    "less_management_fees = [property_manager_rate*rents[i] for i in range(len(months))]\n",
    "less_vacancy = [vacancy_rate*rents[i] for i in range(len(months))]\n",
    "less_repairs = [repair_allowance*rents[i] for i in range(len(months))]\n",
    "less_taxes = [property_taxes*project_life[i] if i % 12 == 0 else 0 for i in range(len(months))]\n",
    "less_insurance = [insurance*project_life[i] if i % 12 == 0 else 0 for i in range(len(months))]\n",
    "less_utilities = [lease_up[i]*project_life[i]*utilities for i in range(len(months))]\n",
    "\n",
    "net_rents = [int(np.round(rents[i]-less_management_fees[i]-less_vacancy[i]-less_repairs[i]-less_taxes[i]-less_insurance[i]-less_utilities[i], 0)) for i in range(len(months))]\n",
    "\n",
    "# -- Loan Principal\n",
    "interest = [np.round(amortization_interest[i+1], 0) for i in range(len(months))]\n",
    "interest_paid_from_rents = [max(0, min(net_rents[i], interest[i])) for i in range(len(months))]\n",
    "interest_paid_from_account = [interest[i]-interest_paid_from_rents[i] if net_rents[i] < interest[i] else 0 for i in range(len(months))]\n",
    "principal_amount = [np.round(amortization_principal[i+1], 0) for i in range(len(months))]\n",
    "principal_paid_from_rents = [max(0, min(principal_amount[i], net_rents[i]-interest_paid_from_rents[i])) for i in range(len(months))]\n",
    "principal_paid_from_account = [principal_amount[i]-principal_paid_from_rents[i] if principal_amount[i] > principal_paid_from_rents[i] else 0 for i in range(len(months))]\n",
    "principal_paid_from_sale = [0 for i in range(len(months))]  #TODO: it's -debt\n",
    "\n",
    "loan_principal = []\n",
    "for i in range(len(months)):\n",
    "    if i == 0:\n",
    "        loan_principal.append(total_project_loan_amount)\n",
    "    else:\n",
    "        loan_principal.append(np.round(max(0, loan_principal[i-1] + interest[i-1] - interest_paid_from_rents[i-1] - interest_paid_from_account[i-1]- principal_paid_from_rents[i-1] - principal_paid_from_account[i-1] - principal_paid_from_sale[i-1]), 0))\n",
    "\n",
    "net_rent_debt_services = [net_rents[i]-interest_paid_from_rents[i]-principal_paid_from_rents[i] for i in range(len(months))]\n",
    "\n",
    "# -- Net Rents - Debt Services\n",
    "debt_service_paid = []\n",
    "less_reserves = []\n",
    "net_rent_deposits = []\n",
    "bank_account = []\n",
    "for i in range(len(months)):\n",
    "    if i == 0:\n",
    "        bank_account.append(cash_invested[i] + extra_reserves[i] + net_rents[i])\n",
    "        debt_service_paid.append(min(bank_account[i], interest_paid_from_account[i] + principal_paid_from_account[i]))\n",
    "        less_reserves.append(min(0, net_rents[i] + total_project_costs[i] + loan_principal[i]))\n",
    "        net_rent_deposits.append(max(0, net_rent_debt_services[i]))\n",
    "    else:\n",
    "        bank_account.append(bank_account[i-1] - debt_service_paid[i-1] + less_reserves[i-1] + net_rent_deposits[i-1])\n",
    "        debt_service_paid.append(min(bank_account[i], interest_paid_from_account[i] + principal_paid_from_account[i]))\n",
    "        less_reserves.append(min(0, net_rents[i] + total_project_costs[i]))\n",
    "        net_rent_deposits.append(max(0, net_rent_debt_services[i] - principal_paid_from_account[i] - interest_paid_from_account[i]))\n",
    "\n",
    "sales_price = [0 for i in range(len(months))]\n",
    "sales_price[-1] = sales_price_at_exit\n",
    "less_cost_of_sales = [cost_of_sale*sales_price[i] for i in range(len(months))]\n",
    "less_debt = [min(sales_price[i]-less_cost_of_sales[i], loan_principal[i]+interest[i]-interest_paid_from_rents[i]-principal_paid_from_rents[i]) for i in range(len(months))]\n",
    "net_proceeds = [np.round(sales_price[i]-less_cost_of_sales[i]-less_debt[i], 0) for i in range(len(months))]"
   ]
  },
  {
   "cell_type": "markdown",
   "metadata": {},
   "source": [
    "## Metrics"
   ]
  },
  {
   "cell_type": "code",
   "execution_count": 238,
   "metadata": {},
   "outputs": [],
   "source": [
    "cash_flow_unleveraged = []\n",
    "cash_flow_leveraged = []\n",
    "\n",
    "for i in range(len(months)):\n",
    "    if i == 0:\n",
    "        cash_flow_unleveraged.append(total_project_costs[i]+extra_reserves[i]+net_rents[i]+sales_price[i]-less_cost_of_sales[i])\n",
    "        if equity_pct == 1:\n",
    "            unlevered_amt = cash_flow_unleveraged[i]\n",
    "        else:\n",
    "            unlevered_amt = -cash_invested[i] + net_rents[i] - extra_reserves[i]\n",
    "        cash_flow_leveraged.append(unlevered_amt)\n",
    "    else:\n",
    "        cash_flow_unleveraged.append(total_project_costs[i]+net_rents[i]+sales_price[i]-less_cost_of_sales[i])\n",
    "        if equity_pct == 1:\n",
    "            unlevered_amt = cash_flow_unleveraged[i]\n",
    "        else:\n",
    "            unlevered_amt = net_rent_debt_services[i] + net_proceeds[i]\n",
    "        cash_flow_leveraged.append(unlevered_amt)"
   ]
  },
  {
   "cell_type": "code",
   "execution_count": 242,
   "metadata": {},
   "outputs": [],
   "source": [
    "from scipy.optimize import anderson\n",
    "from datetime import datetime\n",
    "\n",
    "def xnpv(rate, values, dates):\n",
    "    \n",
    "    if rate <= -1.0:\n",
    "        return float('inf')\n",
    "    min_date = min(dates)\n",
    "    return sum([\n",
    "        value / (1 + rate)**((date - min_date).days / 365)\n",
    "        for value, date\n",
    "        in zip(values, dates)\n",
    "     ])\n",
    "\n",
    "\n",
    "def xirr(values, dates):\n",
    "    return anderson(lambda r: xnpv(r, values, dates), 0)\n",
    "\n",
    "dates_xirr = [datetime.strptime(i, '%Y-%m-%d').date() for i in dates]"
   ]
  },
  {
   "cell_type": "code",
   "execution_count": 246,
   "metadata": {},
   "outputs": [
    {
     "name": "stdout",
     "output_type": "stream",
     "text": [
      "IRR unlevered:  11.84\n",
      "IRR leveraged:  15.62\n"
     ]
    }
   ],
   "source": [
    "irr_unleveraged = np.round(xirr(values=cash_flow_unleveraged, dates=dates_xirr)*100, 2)\n",
    "irr_leveraged = np.round(xirr(values=cash_flow_leveraged, dates=dates_xirr)*100, 2)\n",
    "print('IRR unlevered: ', irr_unleveraged)\n",
    "print('IRR leveraged: ', irr_leveraged)"
   ]
  },
  {
   "cell_type": "markdown",
   "metadata": {},
   "source": [
    "## On IRR calcualtion\n",
    "\n",
    "- The `numpy_financial.irr()` function is using `fsolve()` to find the root of the equation.\n",
    "- However, it's not the best optimizer and may find local optima.\n",
    "- That's why its results are different from the `XIRR()` function in Excel.\n",
    "- Below, you can see an implementation of it (which we don't use)."
   ]
  },
  {
   "cell_type": "code",
   "execution_count": 241,
   "metadata": {},
   "outputs": [
    {
     "data": {
      "text/plain": [
       "0.009368562624948007"
      ]
     },
     "execution_count": 241,
     "metadata": {},
     "output_type": "execute_result"
    }
   ],
   "source": [
    "npf.irr(cash_flow_unleveraged)"
   ]
  },
  {
   "cell_type": "code",
   "execution_count": 212,
   "metadata": {},
   "outputs": [
    {
     "name": "stdout",
     "output_type": "stream",
     "text": [
      "0.28094842115996105\n"
     ]
    },
    {
     "name": "stderr",
     "output_type": "stream",
     "text": [
      "/var/folders/cy/nnrzxpcn1779rtszgf7l3z8h0000gp/T/ipykernel_88425/1274941533.py:14: DeprecationWarning: np.asscalar(a) is deprecated since NumPy v1.16, use a.item() instead\n",
      "  return np.asscalar(fsolve(npv, x0=x0, args=(cfs, yrs)))\n"
     ]
    }
   ],
   "source": [
    "from scipy.optimize import fsolve, anderson\n",
    "\n",
    "def npv(irr, cfs, yrs):  \n",
    "    return np.sum(cfs / (1. + irr) ** yrs)\n",
    "\n",
    "csh_fl = [-100, 39, 59, 55, 20]#cash_flow_leveraged\n",
    "\n",
    "years = np.arange(len(csh_fl))\n",
    "\n",
    "# A guess\n",
    "# print(npv(irr=0.10, cfs=csh_fl, yrs=years))\n",
    "\n",
    "def irr(cfs, yrs, x0):\n",
    "    return np.asscalar(fsolve(npv, x0=x0, args=(cfs, yrs)))\n",
    "\n",
    "print(irr(cfs=csh_fl, yrs=years, x0=0.10))\n"
   ]
  },
  {
   "cell_type": "code",
   "execution_count": null,
   "metadata": {},
   "outputs": [],
   "source": []
  }
 ],
 "metadata": {
  "interpreter": {
   "hash": "aee8b7b246df8f9039afb4144a1f6fd8d2ca17a180786b69acc140d282b71a49"
  },
  "kernelspec": {
   "display_name": "Python 3.9.10 64-bit",
   "language": "python",
   "name": "python3"
  },
  "language_info": {
   "codemirror_mode": {
    "name": "ipython",
    "version": 3
   },
   "file_extension": ".py",
   "mimetype": "text/x-python",
   "name": "python",
   "nbconvert_exporter": "python",
   "pygments_lexer": "ipython3",
   "version": "3.9.10"
  },
  "orig_nbformat": 4
 },
 "nbformat": 4,
 "nbformat_minor": 2
}
